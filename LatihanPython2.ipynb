{
 "cells": [
  {
   "cell_type": "code",
   "execution_count": 1,
   "metadata": {},
   "outputs": [
    {
     "name": "stdout",
     "output_type": "stream",
     "text": [
      "Cetak ini jika benar\n",
      "10\n"
     ]
    }
   ],
   "source": [
    "kelerengku = 10\n",
    "if kelerengku:\n",
    "    print(\"Cetak ini jika benar\")\n",
    "    print(kelerengku)"
   ]
  },
  {
   "cell_type": "code",
   "execution_count": 1,
   "metadata": {},
   "outputs": [
    {
     "name": "stdout",
     "output_type": "stream",
     "text": [
      "3.0\n"
     ]
    }
   ],
   "source": [
    "a=3; print(float(a))"
   ]
  },
  {
   "cell_type": "code",
   "execution_count": 2,
   "metadata": {},
   "outputs": [
    {
     "data": {
      "text/plain": [
       "['cat', 'tiger', 'wolf']"
      ]
     },
     "execution_count": 2,
     "metadata": {},
     "output_type": "execute_result"
    }
   ],
   "source": [
    "animal = ['cat', 'rabbit', 'tiger', 'wolf']\n",
    "del animal[1]\n",
    "animal"
   ]
  },
  {
   "cell_type": "code",
   "execution_count": 3,
   "metadata": {},
   "outputs": [
    {
     "ename": "IndentationError",
     "evalue": "unexpected indent (<ipython-input-3-895e4352abf9>, line 2)",
     "output_type": "error",
     "traceback": [
      "\u001b[1;36m  File \u001b[1;32m\"<ipython-input-3-895e4352abf9>\"\u001b[1;36m, line \u001b[1;32m2\u001b[0m\n\u001b[1;33m    print(\"Cetak ini jika benar\")\u001b[0m\n\u001b[1;37m    ^\u001b[0m\n\u001b[1;31mIndentationError\u001b[0m\u001b[1;31m:\u001b[0m unexpected indent\n"
     ]
    }
   ],
   "source": [
    "if kelerengku: hitung()\n",
    "    print(\"Cetak ini jika benar\")\n",
    "    print(kelerengku)"
   ]
  },
  {
   "cell_type": "code",
   "execution_count": 5,
   "metadata": {},
   "outputs": [
    {
     "name": "stdout",
     "output_type": "stream",
     "text": [
      "<class 'str'>\n"
     ]
    }
   ],
   "source": [
    "x = 'hello'\n",
    "print(type(x))"
   ]
  },
  {
   "cell_type": "code",
   "execution_count": 4,
   "metadata": {},
   "outputs": [
    {
     "ename": "NameError",
     "evalue": "name 'hitung' is not defined",
     "output_type": "error",
     "traceback": [
      "\u001b[1;31m---------------------------------------------------------------------------\u001b[0m",
      "\u001b[1;31mNameError\u001b[0m                                 Traceback (most recent call last)",
      "\u001b[1;32m<ipython-input-4-9cb816c6ac68>\u001b[0m in \u001b[0;36m<module>\u001b[1;34m\u001b[0m\n\u001b[1;32m----> 1\u001b[1;33m \u001b[1;32mif\u001b[0m \u001b[0mkelerengku\u001b[0m\u001b[1;33m:\u001b[0m \u001b[0mhitung\u001b[0m\u001b[1;33m(\u001b[0m\u001b[1;33m)\u001b[0m\u001b[1;33m\u001b[0m\u001b[1;33m\u001b[0m\u001b[0m\n\u001b[0m",
      "\u001b[1;31mNameError\u001b[0m: name 'hitung' is not defined"
     ]
    }
   ],
   "source": [
    "if kelerengku: hitung()"
   ]
  },
  {
   "cell_type": "code",
   "execution_count": 5,
   "metadata": {},
   "outputs": [
    {
     "name": "stdout",
     "output_type": "stream",
     "text": [
      "Bilangan 4 adalah genap\n"
     ]
    }
   ],
   "source": [
    "bilangan = 4\n",
    "if bilangan % 2 == 0:\n",
    "    print('Bilangan {} adalah genap'.format(bilangan))\n",
    "else:\n",
    "    print('Bilangan {} adalah ganjil'.format(bilangan))"
   ]
  },
  {
   "cell_type": "code",
   "execution_count": 6,
   "metadata": {},
   "outputs": [
    {
     "name": "stdout",
     "output_type": "stream",
     "text": [
      "Masukkan tinggi badan anda: 161\n",
      "Silahkan masuk\n"
     ]
    }
   ],
   "source": [
    "tinggi_badan = int(input(\"Masukkan tinggi badan anda: \"))\n",
    "if tinggi_badan >= 160:\n",
    "    print(\"Silahkan masuk\")\n",
    "else:\n",
    "    print(\"maaf anda tidak boleh masuk\")"
   ]
  },
  {
   "cell_type": "code",
   "execution_count": 10,
   "metadata": {},
   "outputs": [
    {
     "name": "stdout",
     "output_type": "stream",
     "text": [
      "masukkan tinggi badanmu: 150\n",
      "Tinggi badanmu adalah 150cm, silahkan pergi\n"
     ]
    }
   ],
   "source": [
    "tinggi_badan = int(input(\"masukkan tinggi badanmu: \"))\n",
    "if tinggi_badan >= 160:\n",
    "    print(\"Tinggi badanmu adalah {}cm, maka kamu bisa masuk\".format(tinggi_badan))\n",
    "else:\n",
    "    print(\"Tinggi badanmu adalah {}cm, silahkan pergi\".format(tinggi_badan))"
   ]
  },
  {
   "cell_type": "code",
   "execution_count": 13,
   "metadata": {},
   "outputs": [
    {
     "name": "stdout",
     "output_type": "stream",
     "text": [
      "Masukkan nilai tugas Anda : 20\n",
      "Waduh, Anda mendapat nilai D\n",
      "Yuk belajar lebih giat lagi!\n"
     ]
    }
   ],
   "source": [
    "nilai = int(input(\"Masukkan nilai tugas Anda : \"))\n",
    "if nilai>80:\n",
    "   print(\"Selamat! Anda mendapat nilai A\")\n",
    "   print(\"Pertahankan!\")\n",
    "elif nilai>70:\n",
    "   print(\"Hore! Anda mendapat nilai B\")\n",
    "   print(\"Tingkatkan!\")\n",
    "elif nilai>60:\n",
    "   print(\"Hmm.. Anda mendapat nilai C\")\n",
    "   print(\"Ayo semangat!\")\n",
    "else:\n",
    "   print(\"Waduh, Anda mendapat nilai D\")\n",
    "   print(\"Yuk belajar lebih giat lagi!\")"
   ]
  },
  {
   "cell_type": "code",
   "execution_count": 16,
   "metadata": {},
   "outputs": [
    {
     "name": "stdout",
     "output_type": "stream",
     "text": [
      "Masukkan Nama anda: fedy\n",
      "Masukkan nilai anda: 20\n",
      "Waduh fedy, Anda mendapatkan nilai D\n",
      "Yuk belajar lebih giat lagi!\n"
     ]
    }
   ],
   "source": [
    "nama = input(\"Masukkan Nama anda: \")\n",
    "nilai = int(input(\"Masukkan nilai anda: \"))\n",
    "if nilai>80:\n",
    "    print(\"Selamat {}! Anda mendapatkan nilai A\".format(nama))\n",
    "    print(\"Pertahankan!\")\n",
    "elif nilai>70:\n",
    "    print(\"Hore {}! Anda mendapatkan nilai B\".format(nama))\n",
    "    print(\"Tingkatkan!\")\n",
    "elif nilai>60:\n",
    "    print(\"Hmm..{}, Anda mendapat niai C\".format(nama))\n",
    "    print(\"Ayo semangat!\")\n",
    "else:\n",
    "    print(\"Waduh {}, Anda mendapatkan nilai D\".format(nama))\n",
    "    print(\"Yuk belajar lebih giat lagi!\")"
   ]
  },
  {
   "cell_type": "code",
   "execution_count": 17,
   "metadata": {},
   "outputs": [
    {
     "name": "stdout",
     "output_type": "stream",
     "text": [
      "Bilangan -3 adalah negatif\n"
     ]
    }
   ],
   "source": [
    "bilangan = -3\n",
    "if bilangan > 0:\n",
    "    print('Bilangan {} adalah positif'.format(bilangan))\n",
    "elif bilangan < 0:\n",
    "    print('Bilangan {} adalah negatif'.format(bilangan))\n",
    "else:\n",
    "    print('Bilangan {} adalah nol'.format(bilangan))"
   ]
  },
  {
   "cell_type": "code",
   "execution_count": 22,
   "metadata": {},
   "outputs": [
    {
     "name": "stdout",
     "output_type": "stream",
     "text": [
      "Masukkan nilai bilanganmu: 0\n",
      "Bilangan 0 adalah nol\n"
     ]
    }
   ],
   "source": [
    "bilangan = int(input(\"Masukkan nilai bilanganmu: \"))\n",
    "if bilangan>0:\n",
    "    print('Bilangan {} adalah positif'.format(bilangan))\n",
    "elif bilangan<0:\n",
    "    print('Bilangan {} adalah negatif'.format(bilangan))\n",
    "else:\n",
    "    print('Bilangan {} adalah nol'.format(bilangan))"
   ]
  },
  {
   "cell_type": "code",
   "execution_count": 23,
   "metadata": {},
   "outputs": [
    {
     "ename": "IndentationError",
     "evalue": "expected an indented block (<ipython-input-23-e953d9814d6a>, line 2)",
     "output_type": "error",
     "traceback": [
      "\u001b[1;36m  File \u001b[1;32m\"<ipython-input-23-e953d9814d6a>\"\u001b[1;36m, line \u001b[1;32m2\u001b[0m\n\u001b[1;33m    condition_if_true\u001b[0m\n\u001b[1;37m    ^\u001b[0m\n\u001b[1;31mIndentationError\u001b[0m\u001b[1;31m:\u001b[0m expected an indented block\n"
     ]
    }
   ],
   "source": [
    "if (condition):\n",
    "condition_if_true\n",
    "else:\n",
    "condition_if_false"
   ]
  },
  {
   "cell_type": "code",
   "execution_count": 24,
   "metadata": {},
   "outputs": [
    {
     "name": "stdout",
     "output_type": "stream",
     "text": [
      "Huruf: D\n",
      "Huruf: i\n",
      "Huruf: c\n",
      "Huruf: o\n",
      "Huruf: d\n",
      "Huruf: i\n",
      "Huruf: n\n",
      "Huruf: g\n",
      "Flower: mawar\n",
      "Flower: melati\n",
      "Flower: anggrek\n"
     ]
    }
   ],
   "source": [
    "for huruf in 'Dicoding':  # Contoh pertama\n",
    "    print('Huruf: {}'.format(huruf))\n",
    " \n",
    "flowers = ['mawar', 'melati', 'anggrek']\n",
    "for flower in flowers:  # Contoh kedua\n",
    "    print('Flower: {}'.format(flower))"
   ]
  },
  {
   "cell_type": "code",
   "execution_count": 25,
   "metadata": {},
   "outputs": [
    {
     "name": "stdout",
     "output_type": "stream",
     "text": [
      "Abjadnya: f\n",
      "Abjadnya: e\n",
      "Abjadnya: d\n",
      "Abjadnya: y\n"
     ]
    }
   ],
   "source": [
    "for abjd in 'fedy':\n",
    "    print('Abjadnya: {}'.format(abjd))"
   ]
  },
  {
   "cell_type": "code",
   "execution_count": 27,
   "metadata": {},
   "outputs": [
    {
     "name": "stdout",
     "output_type": "stream",
     "text": [
      "Flowers: mawar\n",
      "Flowers: melati\n",
      "Flowers: anggrek\n"
     ]
    }
   ],
   "source": [
    "flowers = ['mawar', 'melati', 'anggrek']\n",
    "for index in range(len(flowers)):\n",
    "    print('Flowers: {}'.format(flowers[index]))"
   ]
  },
  {
   "cell_type": "code",
   "execution_count": 32,
   "metadata": {},
   "outputs": [
    {
     "name": "stdout",
     "output_type": "stream",
     "text": [
      "Penghuni Kontrakan: fedy\n",
      "Penghuni Kontrakan: chandra\n",
      "Penghuni Kontrakan: al\n"
     ]
    }
   ],
   "source": [
    "elite = ['fedy', 'chandra', 'al']\n",
    "for daftar in range(len(elite)):\n",
    "    print('Penghuni Kontrakan: {}'.format(elite[daftar]))"
   ]
  },
  {
   "cell_type": "code",
   "execution_count": 30,
   "metadata": {},
   "outputs": [
    {
     "name": "stdout",
     "output_type": "stream",
     "text": [
      "3\n"
     ]
    }
   ],
   "source": [
    "elite = ['fedy', 'chandra', 'al']\n",
    "print(len(elite))"
   ]
  },
  {
   "cell_type": "code",
   "execution_count": 33,
   "metadata": {},
   "outputs": [
    {
     "name": "stdout",
     "output_type": "stream",
     "text": [
      "Hitungannya adalah: 0\n",
      "Hitungannya adalah: 1\n",
      "Hitungannya adalah: 2\n",
      "Hitungannya adalah: 3\n",
      "Hitungannya adalah: 4\n",
      "Hitungannya adalah: 5\n",
      "Hitungannya adalah: 6\n"
     ]
    }
   ],
   "source": [
    "count = 0\n",
    "while (count < 7):\n",
    "    print('Hitungannya adalah: {}'.format(count))\n",
    "    count = count + 1"
   ]
  },
  {
   "cell_type": "code",
   "execution_count": 36,
   "metadata": {},
   "outputs": [
    {
     "name": "stdout",
     "output_type": "stream",
     "text": [
      "Hitungannya adalah : 0\n",
      "Hitungannya adalah : 1\n",
      "Hitungannya adalah : 2\n",
      "Hitungannya adalah : 3\n",
      "Hitungannya adalah : 4\n",
      "Hitungannya adalah : 5\n",
      "Hitungannya adalah : 6\n",
      "Hitungannya adalah : 7\n",
      "Hitungannya adalah : 8\n",
      "Hitungannya adalah : 9\n",
      "Hitungannya adalah : 10\n"
     ]
    },
    {
     "ename": "SyntaxError",
     "evalue": "'break' outside loop (<ipython-input-36-508d7e54ec73>, line 6)",
     "output_type": "error",
     "traceback": [
      "\u001b[1;36m  File \u001b[1;32m\"<ipython-input-36-508d7e54ec73>\"\u001b[1;36m, line \u001b[1;32m6\u001b[0m\n\u001b[1;33m    break\u001b[0m\n\u001b[1;37m    ^\u001b[0m\n\u001b[1;31mSyntaxError\u001b[0m\u001b[1;31m:\u001b[0m 'break' outside loop\n"
     ]
    }
   ],
   "source": [
    "count = 0\n",
    "while (count <= 10):\n",
    "    print(\"Hitungannya adalah : {}\".format(count))\n",
    "    count = count + 1\n",
    "if (count == 9):\n",
    "    break"
   ]
  },
  {
   "cell_type": "code",
   "execution_count": 45,
   "metadata": {},
   "outputs": [
    {
     "name": "stdout",
     "output_type": "stream",
     "text": [
      "Masukkan angka: 5\n",
      "Anda memasukkan angka: 5\n"
     ]
    },
    {
     "ename": "KeyboardInterrupt",
     "evalue": "Interrupted by user",
     "output_type": "error",
     "traceback": [
      "\u001b[1;31m---------------------------------------------------------------------------\u001b[0m",
      "\u001b[1;31mKeyboardInterrupt\u001b[0m                         Traceback (most recent call last)",
      "\u001b[1;32m<ipython-input-45-b6600a4d3242>\u001b[0m in \u001b[0;36m<module>\u001b[1;34m\u001b[0m\n\u001b[0;32m      1\u001b[0m \u001b[0mvar\u001b[0m \u001b[1;33m=\u001b[0m \u001b[1;36m1\u001b[0m\u001b[1;33m\u001b[0m\u001b[1;33m\u001b[0m\u001b[0m\n\u001b[0;32m      2\u001b[0m \u001b[1;32mwhile\u001b[0m \u001b[0mvar\u001b[0m \u001b[1;33m==\u001b[0m \u001b[1;36m1\u001b[0m\u001b[1;33m:\u001b[0m  \u001b[1;31m# This constructs an infinite loop\u001b[0m\u001b[1;33m\u001b[0m\u001b[1;33m\u001b[0m\u001b[0m\n\u001b[1;32m----> 3\u001b[1;33m     \u001b[0mnum\u001b[0m \u001b[1;33m=\u001b[0m \u001b[0mint\u001b[0m\u001b[1;33m(\u001b[0m\u001b[0minput\u001b[0m\u001b[1;33m(\u001b[0m\u001b[1;34m'Masukkan angka: '\u001b[0m\u001b[1;33m)\u001b[0m\u001b[1;33m)\u001b[0m\u001b[1;33m\u001b[0m\u001b[1;33m\u001b[0m\u001b[0m\n\u001b[0m\u001b[0;32m      4\u001b[0m     \u001b[0mprint\u001b[0m\u001b[1;33m(\u001b[0m\u001b[1;34m'Anda memasukkan angka: {}'\u001b[0m\u001b[1;33m.\u001b[0m\u001b[0mformat\u001b[0m\u001b[1;33m(\u001b[0m\u001b[0mnum\u001b[0m\u001b[1;33m)\u001b[0m\u001b[1;33m)\u001b[0m\u001b[1;33m\u001b[0m\u001b[1;33m\u001b[0m\u001b[0m\n\u001b[0;32m      5\u001b[0m \u001b[1;33m\u001b[0m\u001b[0m\n",
      "\u001b[1;32m~\\anaconda3\\lib\\site-packages\\ipykernel\\kernelbase.py\u001b[0m in \u001b[0;36mraw_input\u001b[1;34m(self, prompt)\u001b[0m\n\u001b[0;32m    858\u001b[0m                 \u001b[1;34m\"raw_input was called, but this frontend does not support input requests.\"\u001b[0m\u001b[1;33m\u001b[0m\u001b[1;33m\u001b[0m\u001b[0m\n\u001b[0;32m    859\u001b[0m             )\n\u001b[1;32m--> 860\u001b[1;33m         return self._input_request(str(prompt),\n\u001b[0m\u001b[0;32m    861\u001b[0m             \u001b[0mself\u001b[0m\u001b[1;33m.\u001b[0m\u001b[0m_parent_ident\u001b[0m\u001b[1;33m,\u001b[0m\u001b[1;33m\u001b[0m\u001b[1;33m\u001b[0m\u001b[0m\n\u001b[0;32m    862\u001b[0m             \u001b[0mself\u001b[0m\u001b[1;33m.\u001b[0m\u001b[0m_parent_header\u001b[0m\u001b[1;33m,\u001b[0m\u001b[1;33m\u001b[0m\u001b[1;33m\u001b[0m\u001b[0m\n",
      "\u001b[1;32m~\\anaconda3\\lib\\site-packages\\ipykernel\\kernelbase.py\u001b[0m in \u001b[0;36m_input_request\u001b[1;34m(self, prompt, ident, parent, password)\u001b[0m\n\u001b[0;32m    902\u001b[0m             \u001b[1;32mexcept\u001b[0m \u001b[0mKeyboardInterrupt\u001b[0m\u001b[1;33m:\u001b[0m\u001b[1;33m\u001b[0m\u001b[1;33m\u001b[0m\u001b[0m\n\u001b[0;32m    903\u001b[0m                 \u001b[1;31m# re-raise KeyboardInterrupt, to truncate traceback\u001b[0m\u001b[1;33m\u001b[0m\u001b[1;33m\u001b[0m\u001b[1;33m\u001b[0m\u001b[0m\n\u001b[1;32m--> 904\u001b[1;33m                 \u001b[1;32mraise\u001b[0m \u001b[0mKeyboardInterrupt\u001b[0m\u001b[1;33m(\u001b[0m\u001b[1;34m\"Interrupted by user\"\u001b[0m\u001b[1;33m)\u001b[0m \u001b[1;32mfrom\u001b[0m \u001b[1;32mNone\u001b[0m\u001b[1;33m\u001b[0m\u001b[1;33m\u001b[0m\u001b[0m\n\u001b[0m\u001b[0;32m    905\u001b[0m             \u001b[1;32mexcept\u001b[0m \u001b[0mException\u001b[0m \u001b[1;32mas\u001b[0m \u001b[0me\u001b[0m\u001b[1;33m:\u001b[0m\u001b[1;33m\u001b[0m\u001b[1;33m\u001b[0m\u001b[0m\n\u001b[0;32m    906\u001b[0m                 \u001b[0mself\u001b[0m\u001b[1;33m.\u001b[0m\u001b[0mlog\u001b[0m\u001b[1;33m.\u001b[0m\u001b[0mwarning\u001b[0m\u001b[1;33m(\u001b[0m\u001b[1;34m\"Invalid Message:\"\u001b[0m\u001b[1;33m,\u001b[0m \u001b[0mexc_info\u001b[0m\u001b[1;33m=\u001b[0m\u001b[1;32mTrue\u001b[0m\u001b[1;33m)\u001b[0m\u001b[1;33m\u001b[0m\u001b[1;33m\u001b[0m\u001b[0m\n",
      "\u001b[1;31mKeyboardInterrupt\u001b[0m: Interrupted by user"
     ]
    }
   ],
   "source": [
    "var = 1\n",
    "while var == 1:  # This constructs an infinite loop\n",
    "    num = int(input('Masukkan angka: '))\n",
    "    print('Anda memasukkan angka: {}'.format(num))\n",
    "   \n",
    "while True:  # This constructs an infinite loop\n",
    "    num = int(input('Masukkan angka: '))\n",
    "    print('Anda memasukkan angka: {}'.format(num))"
   ]
  },
  {
   "cell_type": "code",
   "execution_count": 46,
   "metadata": {},
   "outputs": [
    {
     "name": "stdout",
     "output_type": "stream",
     "text": [
      "******\n",
      "*****\n",
      "****\n",
      "***\n",
      "**\n",
      "*\n"
     ]
    }
   ],
   "source": [
    "for i in range(0, 6):\n",
    "    for j in range(0, 6 - i):\n",
    "        print('*', end='')\n",
    "    print()"
   ]
  },
  {
   "cell_type": "code",
   "execution_count": 56,
   "metadata": {},
   "outputs": [
    {
     "name": "stdout",
     "output_type": "stream",
     "text": [
      "******\n",
      "*****\n",
      "****\n",
      "***\n",
      "**\n",
      "*\n"
     ]
    }
   ],
   "source": [
    "for i in range(0, 6):\n",
    "    for j in range(0,6 - i):\n",
    "        print('*', end='')\n",
    "    print()"
   ]
  },
  {
   "cell_type": "code",
   "execution_count": 58,
   "metadata": {},
   "outputs": [
    {
     "name": "stdout",
     "output_type": "stream",
     "text": [
      "*****\n",
      "****\n",
      "***\n",
      "**\n",
      "*\n",
      "\n"
     ]
    }
   ],
   "source": [
    "for i in range(0,6):\n",
    "    for j in range(0,6):\n",
    "        if (i<j):\n",
    "            print('*', end='')\n",
    "    print()"
   ]
  },
  {
   "cell_type": "code",
   "execution_count": 65,
   "metadata": {},
   "outputs": [
    {
     "name": "stdout",
     "output_type": "stream",
     "text": [
      "*\n",
      "**\n",
      "***\n",
      "****\n",
      "*****\n",
      "******\n",
      "*******\n",
      "********\n",
      "*********\n",
      "**********"
     ]
    }
   ],
   "source": [
    "for i in range (0,10):\n",
    "    for j in range (0,10):\n",
    "        if j>i:\n",
    "            print()\n",
    "            break\n",
    "        else:\n",
    "            print(\"*\",end=\"\")\n",
    " "
   ]
  },
  {
   "cell_type": "code",
   "execution_count": 66,
   "metadata": {},
   "outputs": [
    {
     "name": "stdout",
     "output_type": "stream",
     "text": [
      "Huruf saat ini: D\n",
      "Huruf saat ini: i\n",
      "Huruf saat ini: c\n",
      "Huruf saat ini: o\n",
      "Huruf saat ini: d\n",
      "Huruf saat ini: i\n",
      "Huruf saat ini: n\n",
      "Huruf saat ini: g\n"
     ]
    }
   ],
   "source": [
    "for huruf in 'Dico ding':\n",
    "    if huruf == ' ':\n",
    "        continue\n",
    "    print('Huruf saat ini: {}'.format(huruf))"
   ]
  },
  {
   "cell_type": "code",
   "execution_count": 67,
   "metadata": {},
   "outputs": [
    {
     "name": "stdout",
     "output_type": "stream",
     "text": [
      "*\n",
      "**\n",
      "***\n",
      "****\n",
      "*****\n",
      "******\n",
      "*******\n",
      "********\n",
      "*********\n",
      "**********\n"
     ]
    }
   ],
   "source": [
    "jumlahbaris = 10\n",
    "baris = 0\n",
    "bintang = 0\n",
    "while baris < jumlahbaris:\n",
    "    if (bintang) >= (baris+1):\n",
    "        print()\n",
    "        baris = baris+1\n",
    "        bintang=0\n",
    "        continue      ##saat masuk ke if, maka bagian print * diluar if tidak akan dijalankan, langsung ulang ke while\n",
    "    print(\"*\",end=\"\")\n",
    "    bintang= bintang+1"
   ]
  },
  {
   "cell_type": "code",
   "execution_count": 70,
   "metadata": {},
   "outputs": [
    {
     "name": "stdout",
     "output_type": "stream",
     "text": [
      "*\n",
      "**\n",
      "***\n",
      "****\n",
      "*****\n",
      "******\n",
      "*******\n",
      "********\n",
      "*********\n",
      "**********\n"
     ]
    }
   ],
   "source": [
    "jumlahbaris = 10\n",
    "baris = 0\n",
    "bintang = 0\n",
    "while baris < jumlahbaris:\n",
    "    if (bintang) >= (baris+1):\n",
    "        print()\n",
    "        baris = baris+1\n",
    "        bintang=0\n",
    "        continue     ##saat masuk ke if, maka bagian print * diluar if tidak akan dijalankan, langsung ulang ke while\n",
    "    print(\"*\",end=\"\")\n",
    "    bintang= bintang+1"
   ]
  },
  {
   "cell_type": "code",
   "execution_count": 71,
   "metadata": {},
   "outputs": [
    {
     "name": "stdout",
     "output_type": "stream",
     "text": [
      "4 equals 2 * 2.0\n",
      "6 equals 2 * 3.0\n",
      "8 equals 2 * 4.0\n",
      "9 equals 3 * 3.0\n"
     ]
    }
   ],
   "source": [
    "for n in range(2, 10):\n",
    "    for x in range(2, n):\n",
    "        if n % x == 0:\n",
    "            print(n, 'equals', x, '*', n/x)\n",
    "            break"
   ]
  },
  {
   "cell_type": "code",
   "execution_count": 72,
   "metadata": {},
   "outputs": [
    {
     "name": "stdout",
     "output_type": "stream",
     "text": [
      "2  adalah bilangan prima\n",
      "3  adalah bilangan prima\n",
      "4 equals 2 * 2.0\n",
      "5  adalah bilangan prima\n",
      "6 equals 2 * 3.0\n",
      "7  adalah bilangan prima\n",
      "8 equals 2 * 4.0\n",
      "9 equals 3 * 3.0\n"
     ]
    }
   ],
   "source": [
    "for n in range(2, 10):\n",
    "    for x in range(2, n):\n",
    "        if n % x == 0:\n",
    "            print( n, 'equals', x, '*', n/x)\n",
    "            break\n",
    "    else:\n",
    "        # loop fell through without finding a factor\n",
    "        print(n, ' adalah bilangan prima')"
   ]
  },
  {
   "cell_type": "code",
   "execution_count": 73,
   "metadata": {},
   "outputs": [
    {
     "ename": "SyntaxError",
     "evalue": "unexpected EOF while parsing (<ipython-input-73-4e2971a9a538>, line 1)",
     "output_type": "error",
     "traceback": [
      "\u001b[1;36m  File \u001b[1;32m\"<ipython-input-73-4e2971a9a538>\"\u001b[1;36m, line \u001b[1;32m1\u001b[0m\n\u001b[1;33m    def sebuahfungsi():\u001b[0m\n\u001b[1;37m                       ^\u001b[0m\n\u001b[1;31mSyntaxError\u001b[0m\u001b[1;31m:\u001b[0m unexpected EOF while parsing\n"
     ]
    }
   ],
   "source": [
    "def sebuahfungsi():"
   ]
  },
  {
   "cell_type": "code",
   "execution_count": 74,
   "metadata": {},
   "outputs": [],
   "source": [
    "def sebuahfungsi():\n",
    "    pass"
   ]
  },
  {
   "cell_type": "code",
   "execution_count": 75,
   "metadata": {},
   "outputs": [
    {
     "name": "stdout",
     "output_type": "stream",
     "text": [
      "Please enter an integer (type exit to exit): 34\n",
      "got integer: 34\n",
      "Please enter an integer (type exit to exit): 0\n",
      "got integer: 0\n",
      "Please enter an integer (type exit to exit): kjd\n",
      "error: <class 'ValueError'>\n",
      "Please enter an integer (type exit to exit): 843\n",
      "got integer: 843\n",
      "Please enter an integer (type exit to exit): hf\n",
      "error: <class 'ValueError'>\n",
      "Please enter an integer (type exit to exit): 0932\n",
      "got integer: 932\n",
      "Please enter an integer (type exit to exit): exit\n"
     ]
    }
   ],
   "source": [
    "import sys\n",
    "data=''\n",
    "while(data!='exit'):\n",
    "    try:\n",
    "        data=input('Please enter an integer (type exit to exit): ')\n",
    "        print('got integer: {}'.format(int(data)))\n",
    "    except:\n",
    "        if data == 'exit':\n",
    "            pass  # exit gracefully without prompt any error\n",
    "        else:\n",
    "            print('error: {}'.format(sys.exc_info()[0]))"
   ]
  },
  {
   "cell_type": "code",
   "execution_count": 76,
   "metadata": {},
   "outputs": [
    {
     "name": "stdout",
     "output_type": "stream",
     "text": [
      "[1, 4, 9, 16]\n"
     ]
    }
   ],
   "source": [
    "#Cara 1\n",
    "angka = [1, 2, 3, 4]\n",
    "pangkat = []\n",
    "for n in angka:\n",
    "  pangkat.append(n**2)\n",
    "print(pangkat)"
   ]
  },
  {
   "cell_type": "code",
   "execution_count": 78,
   "metadata": {},
   "outputs": [
    {
     "name": "stdout",
     "output_type": "stream",
     "text": [
      "[0, 1, 2, 3, 1, 4, 9, 16]\n"
     ]
    }
   ],
   "source": [
    "#Cara 1\n",
    "angka = [1, 2, 3, 4]\n",
    "pangkat = [0, 1, 2, 3]\n",
    "for n in angka:\n",
    "  pangkat.append(n**2)\n",
    "print(pangkat)"
   ]
  },
  {
   "cell_type": "code",
   "execution_count": 79,
   "metadata": {},
   "outputs": [
    {
     "name": "stdout",
     "output_type": "stream",
     "text": [
      "[[1, 1], [9, 27], [25, 125], [49, 343], [81, 729]]\n"
     ]
    }
   ],
   "source": [
    "list_a = range(1, 10, 2)\n",
    "x = [[a**2, a**3] for a in list_a]\n",
    "print(x)"
   ]
  },
  {
   "cell_type": "code",
   "execution_count": 82,
   "metadata": {},
   "outputs": [
    {
     "ename": "IndentationError",
     "evalue": "unexpected indent (<ipython-input-82-c75d7ff3b220>, line 2)",
     "output_type": "error",
     "traceback": [
      "\u001b[1;36m  File \u001b[1;32m\"<ipython-input-82-c75d7ff3b220>\"\u001b[1;36m, line \u001b[1;32m2\u001b[0m\n\u001b[1;33m    File \"<stdin>\", line 1,\u001b[0m\n\u001b[1;37m    ^\u001b[0m\n\u001b[1;31mIndentationError\u001b[0m\u001b[1;31m:\u001b[0m unexpected indent\n"
     ]
    }
   ],
   "source": [
    "print('salah indentasi')\n",
    " File \"<stdin>\", line 1,\n",
    "    print('salah indentasi')"
   ]
  },
  {
   "cell_type": "code",
   "execution_count": 83,
   "metadata": {},
   "outputs": [
    {
     "name": "stdout",
     "output_type": "stream",
     "text": [
      "Panggilan Pertama\n",
      "Panggilan Kedua\n"
     ]
    }
   ],
   "source": [
    "def cetak( param1 ):\n",
    "    print(param1)\n",
    "    return\n",
    " \n",
    "#panggil\n",
    "cetak(\"Panggilan Pertama\")\n",
    "cetak(\"Panggilan Kedua\")"
   ]
  },
  {
   "cell_type": "code",
   "execution_count": 84,
   "metadata": {},
   "outputs": [
    {
     "name": "stdout",
     "output_type": "stream",
     "text": [
      "Dicetak dari dalam fungsi: 200\n",
      "Dicetak sebagai kembalian: 200\n"
     ]
    }
   ],
   "source": [
    "def kali(angka1, angka2):\n",
    "    # Kalikan kedua parameter\n",
    "    hasil = angka1 * angka2\n",
    "    print('Dicetak dari dalam fungsi: {}'.format(hasil))\n",
    "    return hasil\n",
    " \n",
    "# Panggil fungsi kali\n",
    "keluaran = kali(10, 20);\n",
    "print('Dicetak sebagai kembalian: {}'.format(keluaran))"
   ]
  },
  {
   "cell_type": "code",
   "execution_count": 85,
   "metadata": {},
   "outputs": [
    {
     "name": "stdout",
     "output_type": "stream",
     "text": [
      "nilai kuadrat dari 10 adalah 100\n"
     ]
    }
   ],
   "source": [
    "def kuadrat(x):\n",
    "    return x*x\n",
    "a = 10\n",
    "k = kuadrat(a)\n",
    "print('nilai kuadrat dari {} adalah {}'.format(a, k))"
   ]
  },
  {
   "cell_type": "code",
   "execution_count": 86,
   "metadata": {
    "scrolled": true
   },
   "outputs": [
    {
     "name": "stdout",
     "output_type": "stream",
     "text": [
      "Masukkan nilai jari-jari lingkaran: 2\n",
      "Luas lingkaran dari jari-jari 2 adalah 12.571428571428571\n"
     ]
    }
   ],
   "source": [
    "def LuasLingkaran(x):\n",
    "    return (22/7) * (x **2)\n",
    "r = int(input(\"Masukkan nilai jari-jari lingkaran: \", ))\n",
    "L = LuasLingkaran(r)\n",
    "print('Luas lingkaran dari jari-jari {} adalah {}'.format(r, L))"
   ]
  },
  {
   "cell_type": "code",
   "execution_count": 87,
   "metadata": {},
   "outputs": [
    {
     "data": {
      "text/plain": [
       "12.56"
      ]
     },
     "execution_count": 87,
     "metadata": {},
     "output_type": "execute_result"
    }
   ],
   "source": [
    "3.14 * (2 ** 2)"
   ]
  },
  {
   "cell_type": "code",
   "execution_count": 88,
   "metadata": {},
   "outputs": [
    {
     "name": "stdout",
     "output_type": "stream",
     "text": [
      "Nilai di dalam fungsi: [10, 20, 30, [1, 2, 3, 4]]\n",
      "Nilai di luar fungsi: [10, 20, 30, [1, 2, 3, 4]]\n"
     ]
    }
   ],
   "source": [
    "def ubah(list_saya):\n",
    "    list_saya.append([1, 2, 3, 4])\n",
    "    print('Nilai di dalam fungsi: {}'.format(list_saya))\n",
    " \n",
    "# Panggil fungsi ubah\n",
    "list_saya = [10, 20, 30]\n",
    "ubah(list_saya)\n",
    "print('Nilai di luar fungsi: {}'.format(list_saya))\n"
   ]
  },
  {
   "cell_type": "code",
   "execution_count": 89,
   "metadata": {},
   "outputs": [
    {
     "name": "stdout",
     "output_type": "stream",
     "text": [
      "Nilai di dalam fungsi: [1, 2, 3, 4]\n",
      "Nilai di luar fungsi: [10, 20, 30]\n"
     ]
    }
   ],
   "source": [
    "def ubah(list_saya):\n",
    "    \"Deklarasi Variabel list_saya berikut hanya dikenali (berlaku) di dalam fungsi ubah\"\n",
    "    list_saya = [1, 2, 3, 4] \n",
    "    print ('Nilai di dalam fungsi: {}'.format(list_saya))\n",
    " \n",
    "# Panggil fungsi ubah\n",
    "list_saya = [10, 20, 30]\n",
    "ubah(list_saya)\n",
    "print('Nilai di luar fungsi: {}'.format(list_saya))"
   ]
  },
  {
   "cell_type": "code",
   "execution_count": 93,
   "metadata": {},
   "outputs": [
    {
     "name": "stdout",
     "output_type": "stream",
     "text": [
      "Nilai di dalam fungsi: [10, 20, 30, [1, 2, 3, 4]]\n",
      "Nilai di luar fungsi: [10, 20, 30, [1, 2, 3, 4]]\n"
     ]
    }
   ],
   "source": [
    "def ubah(list_saya):\n",
    "    list_saya.append([1, 2, 3, 4])\n",
    "    print('Nilai di dalam fungsi: {}'.format(list_saya))\n",
    " \n",
    "# Panggil fungsi ubah\n",
    "list_saya = [10, 20, 30]\n",
    "ubah(list_saya)\n",
    "print('Nilai di luar fungsi: {}'.format(list_saya))\n"
   ]
  },
  {
   "cell_type": "code",
   "execution_count": 94,
   "metadata": {},
   "outputs": [
    {
     "ename": "SyntaxError",
     "evalue": "invalid syntax (<ipython-input-94-c88df372f948>, line 2)",
     "output_type": "error",
     "traceback": [
      "\u001b[1;36m  File \u001b[1;32m\"<ipython-input-94-c88df372f948>\"\u001b[1;36m, line \u001b[1;32m2\u001b[0m\n\u001b[1;33m    daftar(**{'tanggal': 1, 'bulan': 'Januari', 'tahun'=2020})\u001b[0m\n\u001b[1;37m                                                       ^\u001b[0m\n\u001b[1;31mSyntaxError\u001b[0m\u001b[1;31m:\u001b[0m invalid syntax\n"
     ]
    }
   ],
   "source": [
    "daftar(tanggal=1, bulan='Januari', tahun=2020)\n",
    "daftar(**{'tanggal': 1, 'bulan': 'Januari', 'tahun'=2020})"
   ]
  },
  {
   "cell_type": "code",
   "execution_count": 95,
   "metadata": {},
   "outputs": [
    {
     "name": "stdout",
     "output_type": "stream",
     "text": [
      "argumen posisi 1\n",
      "argumen posisi 2\n",
      "argumen posisi 3\n",
      "argumen kata kunci i:7\n",
      "argumen kata kunci j:8\n",
      "argumen kata kunci k:9\n",
      "argumen posisi 1\n",
      "argumen posisi 2\n",
      "argumen kata kunci j:8\n",
      "argumen kata kunci k:9\n",
      "argumen posisi 2\n",
      "argumen posisi 3\n",
      "argumen kata kunci i:7\n",
      "argumen kata kunci j:8\n"
     ]
    }
   ],
   "source": [
    "def printinfo(*args, **kwargs):\n",
    "    for a in args:\n",
    "        print('argumen posisi {}'.format(a))\n",
    "    for key, value in kwargs.items():\n",
    "        print('argumen kata kunci {}:{}'.format(key, value))\n",
    " \n",
    " \n",
    "# Panggil printinfo\n",
    "printinfo()\n",
    "printinfo(1, 2, 3)\n",
    "printinfo(i=7, j=8, k=9)\n",
    "printinfo(1, 2, j=8, k=9)\n",
    "printinfo(*(2, 3), **{'i':7, 'j':8})"
   ]
  },
  {
   "cell_type": "code",
   "execution_count": 96,
   "metadata": {},
   "outputs": [
    {
     "data": {
      "text/plain": [
       "'DicodingABCABCIndonesia'"
      ]
     },
     "execution_count": 96,
     "metadata": {},
     "output_type": "execute_result"
    }
   ],
   "source": [
    "'ABC'.join(['Dicoding', '', 'Indonesia'])"
   ]
  },
  {
   "cell_type": "code",
   "execution_count": 97,
   "metadata": {},
   "outputs": [
    {
     "ename": "NameError",
     "evalue": "name 'name' is not defined",
     "output_type": "error",
     "traceback": [
      "\u001b[1;31m---------------------------------------------------------------------------\u001b[0m",
      "\u001b[1;31mNameError\u001b[0m                                 Traceback (most recent call last)",
      "\u001b[1;32m<ipython-input-97-f535e84a599a>\u001b[0m in \u001b[0;36m<module>\u001b[1;34m\u001b[0m\n\u001b[0;32m      2\u001b[0m    \u001b[0mprint\u001b[0m\u001b[1;33m(\u001b[0m\u001b[1;34m'Nama:'\u001b[0m\u001b[1;33m,\u001b[0m \u001b[0mname\u001b[0m \u001b[1;33m,\u001b[0m \u001b[1;34m'dan'\u001b[0m \u001b[1;34m' Umur:'\u001b[0m\u001b[1;33m,\u001b[0m\u001b[0mage\u001b[0m\u001b[1;33m)\u001b[0m\u001b[1;33m\u001b[0m\u001b[1;33m\u001b[0m\u001b[0m\n\u001b[0;32m      3\u001b[0m \u001b[1;33m\u001b[0m\u001b[0m\n\u001b[1;32m----> 4\u001b[1;33m \u001b[0mprintinfo\u001b[0m\u001b[1;33m(\u001b[0m\u001b[0mname\u001b[0m\u001b[1;33m,\u001b[0m \u001b[0mage\u001b[0m\u001b[1;33m)\u001b[0m\u001b[1;33m\u001b[0m\u001b[1;33m\u001b[0m\u001b[0m\n\u001b[0m",
      "\u001b[1;31mNameError\u001b[0m: name 'name' is not defined"
     ]
    }
   ],
   "source": [
    "def printinfo(name = 'Dicoding', age=5):\n",
    "   print('Nama:', name , 'dan' ' Umur:',age)\n",
    " \n",
    "printinfo(name, age)"
   ]
  },
  {
   "cell_type": "code",
   "execution_count": 98,
   "metadata": {},
   "outputs": [
    {
     "name": "stderr",
     "output_type": "stream",
     "text": [
      "E\n",
      "======================================================================\n",
      "ERROR: C:\\Users\\King\\AppData\\Roaming\\jupyter\\runtime\\kernel-32702600-b75b-43a2-8265-d621ef6e6057 (unittest.loader._FailedTest)\n",
      "----------------------------------------------------------------------\n",
      "AttributeError: module '__main__' has no attribute 'C:\\Users\\King\\AppData\\Roaming\\jupyter\\runtime\\kernel-32702600-b75b-43a2-8265-d621ef6e6057'\n",
      "\n",
      "----------------------------------------------------------------------\n",
      "Ran 1 test in 0.003s\n",
      "\n",
      "FAILED (errors=1)\n"
     ]
    },
    {
     "ename": "SystemExit",
     "evalue": "True",
     "output_type": "error",
     "traceback": [
      "An exception has occurred, use %tb to see the full traceback.\n",
      "\u001b[1;31mSystemExit\u001b[0m\u001b[1;31m:\u001b[0m True\n"
     ]
    },
    {
     "name": "stderr",
     "output_type": "stream",
     "text": [
      "C:\\Users\\King\\anaconda3\\lib\\site-packages\\IPython\\core\\interactiveshell.py:3351: UserWarning: To exit: use 'exit', 'quit', or Ctrl-D.\n",
      "  warn(\"To exit: use 'exit', 'quit', or Ctrl-D.\", stacklevel=1)\n"
     ]
    }
   ],
   "source": [
    "import unittest\n",
    " \n",
    "class TestStringMethods(unittest.TestCase):\n",
    "    \n",
    "    def test_strip(self):\n",
    "        self.assertEqual('www.dicoding.com'.strip('c.mow'), 'dicoding')\n",
    "    \n",
    "    def test_isalnum(self):\n",
    "        self.assertTrue('c0d1ng'.isalnum())\n",
    "        self.assertFalse('c0d!ng'.isalnum())\n",
    "    \n",
    "    def test_index(self):\n",
    "        s = 'dicoding'\n",
    "        self.assertEqual(s.index('coding'), 2)\n",
    "        # cek s.index gagal ketika tidak ditemukan\n",
    "        with self.assertRaises(ValueError):\n",
    "            s.index('decode')\n",
    "    \n",
    "if __name__ == '__main__':\n",
    "    unittest.main()"
   ]
  },
  {
   "cell_type": "code",
   "execution_count": null,
   "metadata": {},
   "outputs": [],
   "source": []
  }
 ],
 "metadata": {
  "kernelspec": {
   "display_name": "Python 3",
   "language": "python",
   "name": "python3"
  },
  "language_info": {
   "codemirror_mode": {
    "name": "ipython",
    "version": 3
   },
   "file_extension": ".py",
   "mimetype": "text/x-python",
   "name": "python",
   "nbconvert_exporter": "python",
   "pygments_lexer": "ipython3",
   "version": "3.8.3"
  }
 },
 "nbformat": 4,
 "nbformat_minor": 4
}
