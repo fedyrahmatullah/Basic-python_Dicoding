{
 "cells": [
  {
   "cell_type": "code",
   "execution_count": 1,
   "metadata": {},
   "outputs": [
    {
     "name": "stdout",
     "output_type": "stream",
     "text": [
      "Hello, world\n"
     ]
    }
   ],
   "source": [
    "print (\"Hello, world\")"
   ]
  },
  {
   "cell_type": "code",
   "execution_count": 16,
   "metadata": {},
   "outputs": [
    {
     "name": "stdout",
     "output_type": "stream",
     "text": [
      "masukkan nilai : 20\n",
      "bodo lu\n"
     ]
    }
   ],
   "source": [
    "batas = 75\n",
    "nilai = int(input('masukkan nilai : '))\n",
    "if nilai <= batas:\n",
    "    print(\"bodo lu\")\n",
    "else:\n",
    "    print (\"murid gw lu\") \n",
    "\n"
   ]
  },
  {
   "cell_type": "code",
   "execution_count": null,
   "metadata": {},
   "outputs": [],
   "source": []
  },
  {
   "cell_type": "code",
   "execution_count": 14,
   "metadata": {},
   "outputs": [
    {
     "ename": "SyntaxError",
     "evalue": "invalid syntax (<ipython-input-14-b46634928a76>, line 4)",
     "output_type": "error",
     "traceback": [
      "\u001b[1;36m  File \u001b[1;32m\"<ipython-input-14-b46634928a76>\"\u001b[1;36m, line \u001b[1;32m4\u001b[0m\n\u001b[1;33m    print = (Jumlah uang selama 6 bulan adalah\", hasil)\u001b[0m\n\u001b[1;37m                    ^\u001b[0m\n\u001b[1;31mSyntaxError\u001b[0m\u001b[1;31m:\u001b[0m invalid syntax\n"
     ]
    }
   ],
   "source": [
    "uang = 500000\n",
    "bonus = 1.1\n",
    "hasil = uang + (bonus ** 6)\n",
    "print = (Jumlah uang selama 6 bulan adalah\", hasil)"
   ]
  },
  {
   "cell_type": "code",
   "execution_count": 24,
   "metadata": {},
   "outputs": [
    {
     "data": {
      "text/plain": [
       "'Hasilnya 10666'"
      ]
     },
     "execution_count": 24,
     "metadata": {},
     "output_type": "execute_result"
    }
   ],
   "source": [
    "a = 6\n",
    "b = 4\n",
    "\"Hasilnya \" + str (a + b) + \"6\" * 3"
   ]
  },
  {
   "cell_type": "code",
   "execution_count": 25,
   "metadata": {},
   "outputs": [
    {
     "ename": "TypeError",
     "evalue": "'tuple' object is not callable",
     "output_type": "error",
     "traceback": [
      "\u001b[1;31m---------------------------------------------------------------------------\u001b[0m",
      "\u001b[1;31mTypeError\u001b[0m                                 Traceback (most recent call last)",
      "\u001b[1;32m<ipython-input-25-0fa0ab50d158>\u001b[0m in \u001b[0;36m<module>\u001b[1;34m\u001b[0m\n\u001b[0;32m      1\u001b[0m \u001b[0mx1\u001b[0m \u001b[1;33m=\u001b[0m \u001b[1;36m500000\u001b[0m \u001b[1;33m+\u001b[0m \u001b[1;36m0.1\u001b[0m \u001b[1;33m*\u001b[0m \u001b[1;36m500000\u001b[0m\u001b[1;33m\u001b[0m\u001b[1;33m\u001b[0m\u001b[0m\n\u001b[0;32m      2\u001b[0m \u001b[0mx2\u001b[0m \u001b[1;33m=\u001b[0m \u001b[0mx1\u001b[0m \u001b[1;33m+\u001b[0m \u001b[1;36m0.1\u001b[0m \u001b[1;33m*\u001b[0m \u001b[0mx1\u001b[0m\u001b[1;33m\u001b[0m\u001b[1;33m\u001b[0m\u001b[0m\n\u001b[1;32m----> 3\u001b[1;33m \u001b[0mprint\u001b[0m\u001b[1;33m(\u001b[0m\u001b[0mx2\u001b[0m\u001b[1;33m)\u001b[0m\u001b[1;33m\u001b[0m\u001b[1;33m\u001b[0m\u001b[0m\n\u001b[0m",
      "\u001b[1;31mTypeError\u001b[0m: 'tuple' object is not callable"
     ]
    }
   ],
   "source": [
    "x1 = 500000 + 0.1 * 500000\n",
    "x2 = x1 + 0.1 * x1\n",
    "print(x2)"
   ]
  },
  {
   "cell_type": "code",
   "execution_count": 19,
   "metadata": {},
   "outputs": [
    {
     "data": {
      "text/plain": [
       "500001.771561"
      ]
     },
     "execution_count": 19,
     "metadata": {},
     "output_type": "execute_result"
    }
   ],
   "source": [
    "500000 + (1.1 ** 6)"
   ]
  },
  {
   "cell_type": "code",
   "execution_count": 20,
   "metadata": {},
   "outputs": [
    {
     "data": {
      "text/plain": [
       "885780.5000000005"
      ]
     },
     "execution_count": 20,
     "metadata": {},
     "output_type": "execute_result"
    }
   ],
   "source": [
    "500000 * 1.1 ** 6"
   ]
  },
  {
   "cell_type": "code",
   "execution_count": 21,
   "metadata": {},
   "outputs": [
    {
     "data": {
      "text/plain": [
       "3300000.0"
      ]
     },
     "execution_count": 21,
     "metadata": {},
     "output_type": "execute_result"
    }
   ],
   "source": [
    "500000 * 1.1 * 6"
   ]
  },
  {
   "cell_type": "code",
   "execution_count": 22,
   "metadata": {},
   "outputs": [
    {
     "data": {
      "text/plain": [
       "500006.6"
      ]
     },
     "execution_count": 22,
     "metadata": {},
     "output_type": "execute_result"
    }
   ],
   "source": [
    "500000 + (1.1 * 6)"
   ]
  },
  {
   "cell_type": "code",
   "execution_count": 16,
   "metadata": {},
   "outputs": [
    {
     "data": {
      "text/plain": [
       "800000.0"
      ]
     },
     "execution_count": 16,
     "metadata": {},
     "output_type": "execute_result"
    }
   ],
   "source": [
    "(0.1 * 6 * 500000) + 500000"
   ]
  },
  {
   "cell_type": "code",
   "execution_count": 11,
   "metadata": {},
   "outputs": [
    {
     "ename": "TypeError",
     "evalue": "'tuple' object is not callable",
     "output_type": "error",
     "traceback": [
      "\u001b[1;31m---------------------------------------------------------------------------\u001b[0m",
      "\u001b[1;31mTypeError\u001b[0m                                 Traceback (most recent call last)",
      "\u001b[1;32m<ipython-input-11-090892143c43>\u001b[0m in \u001b[0;36m<module>\u001b[1;34m\u001b[0m\n\u001b[0;32m      3\u001b[0m \u001b[0mx\u001b[0m \u001b[1;33m=\u001b[0m \u001b[0mbonus\u001b[0m \u001b[1;33m*\u001b[0m \u001b[1;36m6\u001b[0m\u001b[1;33m\u001b[0m\u001b[1;33m\u001b[0m\u001b[0m\n\u001b[0;32m      4\u001b[0m \u001b[0mhasil\u001b[0m \u001b[1;33m=\u001b[0m \u001b[0muang\u001b[0m \u001b[1;33m*\u001b[0m \u001b[0mx\u001b[0m\u001b[1;33m\u001b[0m\u001b[1;33m\u001b[0m\u001b[0m\n\u001b[1;32m----> 5\u001b[1;33m \u001b[0mprint\u001b[0m\u001b[1;33m(\u001b[0m\u001b[0mhasil\u001b[0m\u001b[1;33m)\u001b[0m\u001b[1;33m\u001b[0m\u001b[1;33m\u001b[0m\u001b[0m\n\u001b[0m",
      "\u001b[1;31mTypeError\u001b[0m: 'tuple' object is not callable"
     ]
    }
   ],
   "source": [
    "uang = 500000\n",
    "bonus = 1.1 \n",
    "x = bonus * 6\n",
    "hasil = uang * x\n",
    "print(hasil)"
   ]
  },
  {
   "cell_type": "code",
   "execution_count": 2,
   "metadata": {},
   "outputs": [
    {
     "name": "stdout",
     "output_type": "stream",
     "text": [
      "C:\\Users\\King\n"
     ]
    }
   ],
   "source": [
    "import os\n",
    "print(os.getcwd())"
   ]
  },
  {
   "cell_type": "code",
   "execution_count": 3,
   "metadata": {},
   "outputs": [
    {
     "name": "stdout",
     "output_type": "stream",
     "text": [
      "6\n",
      "9\n",
      "27\n"
     ]
    }
   ],
   "source": [
    "print(3+3)\n",
    "print(3*3)\n",
    "print(3**3)"
   ]
  },
  {
   "cell_type": "code",
   "execution_count": null,
   "metadata": {},
   "outputs": [],
   "source": [
    "#program to display the fibonacci sequence up to n-th term\n",
    "\n",
    "nterms=int(input(\"How many terms?\"))\n",
    "\n",
    "#first two terms\n",
    "n1, n2 = 0, 1\n",
    "count = 0\n",
    "\n",
    "#check if the number of terms is valid\n",
    "if nterms <= 0:\n",
    "    print(\"Please enter a positive integer\")\n",
    "elif nterms == 1:\n",
    "    print(\"Fibonacci sequence up to\", nterms,\":\")\n",
    "    print(n1)\n",
    "else:\n",
    "    while count < nterms:\n",
    "        print(n1)\n",
    "        nth = n1 + n2\n",
    "        #update values\n",
    "        n1 = n2\n",
    "        n2 = nth\n",
    "        count += 1"
   ]
  },
  {
   "cell_type": "code",
   "execution_count": null,
   "metadata": {},
   "outputs": [],
   "source": [
    "nilai = int(input('masukkan nilai anda : '))\n",
    "\n",
    "n = 75\n",
    "\n",
    "if nilai < 75:\n",
    "    print(\"remedial\")\n",
    "else:\n",
    "    while nilai >= 75:\n",
    "        print(\"Anda lulus\")"
   ]
  },
  {
   "cell_type": "code",
   "execution_count": 117,
   "metadata": {},
   "outputs": [
    {
     "name": "stdout",
     "output_type": "stream",
     "text": [
      "Saya akan libur\n"
     ]
    }
   ],
   "source": [
    "#Contoh penggunaan kondisi elif\n",
    "\n",
    "hari_ini = \"Minggu\"\n",
    "\n",
    "if(hari_ini == \"Senin\"):\n",
    "    print(\"Saya akan kuliah\")\n",
    "elif(hari_ini == \"Selasa\"):\n",
    "    print(\"Saya akan kuliah\")\n",
    "elif(hari_ini == \"Rabu\"):\n",
    "    print(\"Saya akan kuliah\")\n",
    "elif(hari_ini == \"Kamis\"):\n",
    "    print(\"Saya akan kuliah\")\n",
    "elif(hari_ini == \"Jumat\"):\n",
    "    print(\"Saya akan kuliah\")\n",
    "elif(hari_ini == \"Sabtu\"):\n",
    "    print(\"Saya akan kuliah\")\n",
    "elif(hari_ini == \"Minggu\"):\n",
    "    print(\"Saya akan libur\")"
   ]
  },
  {
   "cell_type": "code",
   "execution_count": 13,
   "metadata": {},
   "outputs": [
    {
     "ename": "SyntaxError",
     "evalue": "invalid syntax (<ipython-input-13-bbf7887a5c79>, line 10)",
     "output_type": "error",
     "traceback": [
      "\u001b[1;36m  File \u001b[1;32m\"<ipython-input-13-bbf7887a5c79>\"\u001b[1;36m, line \u001b[1;32m10\u001b[0m\n\u001b[1;33m    var_four):\u001b[0m\n\u001b[1;37m              ^\u001b[0m\n\u001b[1;31mSyntaxError\u001b[0m\u001b[1;31m:\u001b[0m invalid syntax\n"
     ]
    }
   ],
   "source": [
    "#opsi 1\n",
    "#Rata kiri dengan kurung atau pemisah dengan argumen utama\n",
    "foo - long_function_name(var_one, var_two,\n",
    "                        var_three, var_four)\n",
    "\n",
    "#opsi 2\n",
    "#tambahkan indentasi ekstra - (level indentasi baru) untuk memisahkan parameter/argument dari bagian lainnya\n",
    "long_function_name(\n",
    "    var_one, var_two, var_three,\n",
    "    var_four):\n",
    "print(var_one)\n",
    "\n",
    "#opsi 3\n",
    "#Hanging indents dengan penambahan level indentasi saja\n",
    "foo = long_function_name(\n",
    "    var_one, var_two,\n",
    "    var_three, var_four)"
   ]
  },
  {
   "cell_type": "code",
   "execution_count": null,
   "metadata": {},
   "outputs": [],
   "source": [
    "income = (gross_wages\n",
    "         + taxable_interest\n",
    "         + (dividends - qualified_dividends)\n",
    "          - ira_deduction\n",
    "         - student_loan_interest)\n",
    "          "
   ]
  },
  {
   "cell_type": "code",
   "execution_count": null,
   "metadata": {},
   "outputs": [],
   "source": [
    "Yes: import os\n",
    "    import sys\n",
    "    \n",
    "No: import os,sys"
   ]
  },
  {
   "cell_type": "code",
   "execution_count": 1,
   "metadata": {},
   "outputs": [
    {
     "name": "stdout",
     "output_type": "stream",
     "text": [
      "10 bertipe <class 'int'>\n",
      "10 bertipe <class 'float'>\n",
      "(1+3j)  Bertipe bilangan kompleks?  True\n"
     ]
    }
   ],
   "source": [
    "a = 10\n",
    "print(a, \"bertipe\", type(a))\n",
    "b = 1.7\n",
    "print(a, \"bertipe\", type(b))\n",
    "c = 1+3j\n",
    "print(c, \" Bertipe bilangan kompleks? \", isinstance(1+3j,complex))"
   ]
  },
  {
   "cell_type": "code",
   "execution_count": 2,
   "metadata": {},
   "outputs": [
    {
     "name": "stdout",
     "output_type": "stream",
     "text": [
      "<class 'int'>\n"
     ]
    }
   ],
   "source": [
    "a = 10\n",
    "print(type(a))"
   ]
  },
  {
   "cell_type": "code",
   "execution_count": 3,
   "metadata": {},
   "outputs": [
    {
     "name": "stdout",
     "output_type": "stream",
     "text": [
      "<class 'complex'>\n"
     ]
    }
   ],
   "source": [
    "a = 13+7j\n",
    "print(type(a))"
   ]
  },
  {
   "cell_type": "code",
   "execution_count": 5,
   "metadata": {},
   "outputs": [
    {
     "name": "stdout",
     "output_type": "stream",
     "text": [
      "3.142857142857143\n"
     ]
    }
   ],
   "source": [
    "x=22/7\n",
    "print(x)"
   ]
  },
  {
   "cell_type": "code",
   "execution_count": 1,
   "metadata": {},
   "outputs": [
    {
     "name": "stdout",
     "output_type": "stream",
     "text": [
      "33644764876431783266621612005107543310302148460680063906564769974680081442166662368155595513633734025582065332680836159373734790483865268263040892463056431887354544369559827491606602099884183933864652731300088830269235673613135117579297437854413752130520504347701602264758318906527890855154366159582987279682987510631200575428783453215515103870818298969791613127856265033195487140214287532698187962046936097879900350962302291026368131493195275630227837628441540360584402572114334961180023091208287046088923962328835461505776583271252546093591128203925285393434620904245248929403901706233888991085841065183173360437470737908552631764325733993712871937587746897479926305837065742830161637408969178426378624212835258112820516370298089332099905707920064367426202389783111470054074998459250360633560933883831923386783056136435351892133279732908133732642652633989763922723407882928177953580570993691049175470808931841056146322338217465637321248226383092103297701648054726243842374862411453093812206564914032751086643394517512161526545361333111314042436854805106765843493523836959653428071768775328348234345557366719731392746273629108210679280784718035329131176778924659089938635459327894523777674406192240337638674004021330343297496902028328145933418826817683893072003634795623117103101291953169794607632737589253530772552375943788434504067715555779056450443016640119462580972216729758615026968443146952034614932291105970676243268515992834709891284706740862008587135016260312071903172086094081298321581077282076353186624611278245537208532365305775956430072517744315051539600905168603220349163222640885248852433158051534849622434848299380905070483482449327453732624567755879089187190803662058009594743150052402532709746995318770724376825907419939632265984147498193609285223945039707165443156421328157688908058783183404917434556270520223564846495196112460268313970975069382648706613264507665074611512677522748621598642530711298441182622661057163515069260029861704945425047491378115154139941550671256271197133252763631939606902895650288268608362241082050562430701794976171121233066073310059947366875\n"
     ]
    }
   ],
   "source": [
    "x=[0]*10005;              #inisialisasi array 0 sebanyak 10005; x[0]=0\n",
    "x[1]=1;                   #x[1]=1\n",
    " \n",
    "for j in range(2,10001):\n",
    "      x[j]=x[j-1]+x[j-2]  # Fibonacci\n",
    "print(x[10000])"
   ]
  },
  {
   "cell_type": "code",
   "execution_count": 7,
   "metadata": {},
   "outputs": [
    {
     "name": "stdout",
     "output_type": "stream",
     "text": [
      "3.142857142857143\n"
     ]
    }
   ],
   "source": [
    "             #inisialisasi array 0 sebanyak 10005; x[0]=0\n",
    "                   #x[1]\n",
    "x=22/7\n",
    "print(x)"
   ]
  },
  {
   "cell_type": "code",
   "execution_count": 8,
   "metadata": {},
   "outputs": [
    {
     "name": "stdout",
     "output_type": "stream",
     "text": [
      "1.2345678901234568e+18\n"
     ]
    }
   ],
   "source": [
    "a = 1234567890123456789.0\n",
    "print(a)"
   ]
  },
  {
   "cell_type": "code",
   "execution_count": 9,
   "metadata": {},
   "outputs": [
    {
     "name": "stdout",
     "output_type": "stream",
     "text": [
      "1234567890123456789\n"
     ]
    }
   ],
   "source": [
    "a = 1234567890123456789\n",
    "print(a)"
   ]
  },
  {
   "cell_type": "code",
   "execution_count": 10,
   "metadata": {},
   "outputs": [
    {
     "name": "stdout",
     "output_type": "stream",
     "text": [
      "(1234567890123456789, 0)\n"
     ]
    }
   ],
   "source": [
    "a = 1234567890123456789,0\n",
    "print(a)"
   ]
  },
  {
   "cell_type": "code",
   "execution_count": 11,
   "metadata": {},
   "outputs": [
    {
     "name": "stdout",
     "output_type": "stream",
     "text": [
      "1.2345678901234568e+17\n"
     ]
    }
   ],
   "source": [
    "a = 123456789012345678.9\n",
    "print(a)"
   ]
  },
  {
   "cell_type": "code",
   "execution_count": 12,
   "metadata": {},
   "outputs": [
    {
     "name": "stdout",
     "output_type": "stream",
     "text": [
      "0.12345678901234568\n"
     ]
    }
   ],
   "source": [
    "a = 0.1234567890123456789\n",
    "print(a)"
   ]
  },
  {
   "cell_type": "code",
   "execution_count": 26,
   "metadata": {},
   "outputs": [
    {
     "name": "stdout",
     "output_type": "stream",
     "text": [
      "2j\n"
     ]
    }
   ],
   "source": [
    "x = (3j+2j-1j) - 2j\n",
    "print(x)"
   ]
  },
  {
   "cell_type": "code",
   "execution_count": 27,
   "metadata": {},
   "outputs": [
    {
     "name": "stdout",
     "output_type": "stream",
     "text": [
      "1234567890123456789\n"
     ]
    }
   ],
   "source": [
    "a = 1234567890123456789\n",
    "print(a)"
   ]
  },
  {
   "cell_type": "code",
   "execution_count": 29,
   "metadata": {},
   "outputs": [
    {
     "name": "stdout",
     "output_type": "stream",
     "text": [
      "[1, 2.2, 'python']\n"
     ]
    }
   ],
   "source": [
    "a = [1, 2.2, 'python']\n",
    "print(a)"
   ]
  },
  {
   "cell_type": "code",
   "execution_count": 31,
   "metadata": {},
   "outputs": [
    {
     "name": "stdout",
     "output_type": "stream",
     "text": [
      "[20, 25]\n",
      "[30, 35, 40]\n"
     ]
    }
   ],
   "source": [
    "x = [5,10,15,20,25,30,35,40]\n",
    "print(x[3:5])\n",
    "print(x[-3:])"
   ]
  },
  {
   "cell_type": "code",
   "execution_count": 32,
   "metadata": {},
   "outputs": [
    {
     "name": "stdout",
     "output_type": "stream",
     "text": [
      "o\n",
      "World\n"
     ]
    },
    {
     "ename": "TypeError",
     "evalue": "'str' object does not support item assignment",
     "output_type": "error",
     "traceback": [
      "\u001b[1;31m---------------------------------------------------------------------------\u001b[0m",
      "\u001b[1;31mTypeError\u001b[0m                                 Traceback (most recent call last)",
      "\u001b[1;32m<ipython-input-32-b48490b4540d>\u001b[0m in \u001b[0;36m<module>\u001b[1;34m\u001b[0m\n\u001b[0;32m      2\u001b[0m \u001b[0mprint\u001b[0m\u001b[1;33m(\u001b[0m\u001b[0ms\u001b[0m\u001b[1;33m[\u001b[0m\u001b[1;36m4\u001b[0m\u001b[1;33m]\u001b[0m\u001b[1;33m)\u001b[0m             \u001b[1;31m#ambil karakter kelima dari string s\u001b[0m\u001b[1;33m\u001b[0m\u001b[1;33m\u001b[0m\u001b[0m\n\u001b[0;32m      3\u001b[0m \u001b[0mprint\u001b[0m\u001b[1;33m(\u001b[0m\u001b[0ms\u001b[0m\u001b[1;33m[\u001b[0m\u001b[1;36m6\u001b[0m\u001b[1;33m:\u001b[0m\u001b[1;36m11\u001b[0m\u001b[1;33m]\u001b[0m\u001b[1;33m)\u001b[0m          \u001b[1;31m#ambil karakter ketujuh hingga sebelas dari string s\u001b[0m\u001b[1;33m\u001b[0m\u001b[1;33m\u001b[0m\u001b[0m\n\u001b[1;32m----> 4\u001b[1;33m \u001b[0ms\u001b[0m\u001b[1;33m[\u001b[0m\u001b[1;36m5\u001b[0m\u001b[1;33m]\u001b[0m\u001b[1;33m=\u001b[0m\u001b[1;34m\"d\"\u001b[0m                \u001b[1;31m#ubah karakter keenam dari string s menjadi \"d\", seharusnya gagal karena immutable\u001b[0m\u001b[1;33m\u001b[0m\u001b[1;33m\u001b[0m\u001b[0m\n\u001b[0m\u001b[0;32m      5\u001b[0m \u001b[0ms\u001b[0m \u001b[1;33m=\u001b[0m \u001b[1;34m\"Halo Dunia!\"\u001b[0m       \u001b[1;31m#ubah isi string s menjadi \"Halo Dunia!\", seharusnya berhasil karena mutable\u001b[0m\u001b[1;33m\u001b[0m\u001b[1;33m\u001b[0m\u001b[0m\n\u001b[0;32m      6\u001b[0m \u001b[0mprint\u001b[0m \u001b[1;33m(\u001b[0m\u001b[0ms\u001b[0m\u001b[1;33m)\u001b[0m\u001b[1;33m\u001b[0m\u001b[1;33m\u001b[0m\u001b[0m\n",
      "\u001b[1;31mTypeError\u001b[0m: 'str' object does not support item assignment"
     ]
    }
   ],
   "source": [
    "s = \"Hello World!\"\n",
    "print(s[4]) \t\t#ambil karakter kelima dari string s\n",
    "print(s[6:11]) \t\t#ambil karakter ketujuh hingga sebelas dari string s\n",
    "s[5]=\"d\" \t\t#ubah karakter keenam dari string s menjadi \"d\", seharusnya gagal karena immutable\n",
    "s = \"Halo Dunia!\"\t#ubah isi string s menjadi \"Halo Dunia!\", seharusnya berhasil karena mutable\n",
    "print (s)"
   ]
  },
  {
   "cell_type": "code",
   "execution_count": 41,
   "metadata": {},
   "outputs": [
    {
     "name": "stdout",
     "output_type": "stream",
     "text": [
      "o\n",
      "World\n",
      "Halo Dunia!\n"
     ]
    }
   ],
   "source": [
    "s = \"Hello World!\"\n",
    "print(s[4]) \t\t#ambil karakter kelima dari string s\n",
    "print(s[6:11]) \t\t#ambil karakter ketujuh hingga sebelas dari string s\n",
    "s[5]=\"d\" \t\t#ubah karakter keenam dari string s menjadi \"d\", seharusnya gagal karena immutable\n",
    "s = \"Halo Dunia!\"\t#ubah isi string s menjadi \"Halo Dunia!\", seharusnya berhasil karena mutable\n",
    "print (s)"
   ]
  },
  {
   "cell_type": "code",
   "execution_count": 44,
   "metadata": {},
   "outputs": [
    {
     "name": "stdout",
     "output_type": "stream",
     "text": [
      "program\n",
      "[5, 'program', (1+3j)]\n",
      "[10, 'program', (1+3j)]\n"
     ]
    }
   ],
   "source": [
    "t = [5,'program', 1+3j]\n",
    "print(t[1])\n",
    "print(t[0:3])\n",
    "t[0]=10\n",
    "print(t)"
   ]
  },
  {
   "cell_type": "code",
   "execution_count": 45,
   "metadata": {},
   "outputs": [
    {
     "name": "stdout",
     "output_type": "stream",
     "text": [
      "program\n",
      "(5, 'program', (1+3j))\n"
     ]
    },
    {
     "ename": "TypeError",
     "evalue": "'tuple' object does not support item assignment",
     "output_type": "error",
     "traceback": [
      "\u001b[1;31m---------------------------------------------------------------------------\u001b[0m",
      "\u001b[1;31mTypeError\u001b[0m                                 Traceback (most recent call last)",
      "\u001b[1;32m<ipython-input-45-27e263ea0680>\u001b[0m in \u001b[0;36m<module>\u001b[1;34m\u001b[0m\n\u001b[0;32m      2\u001b[0m \u001b[0mprint\u001b[0m\u001b[1;33m(\u001b[0m\u001b[0mt\u001b[0m\u001b[1;33m[\u001b[0m\u001b[1;36m1\u001b[0m\u001b[1;33m]\u001b[0m\u001b[1;33m)\u001b[0m\u001b[1;33m\u001b[0m\u001b[1;33m\u001b[0m\u001b[0m\n\u001b[0;32m      3\u001b[0m \u001b[0mprint\u001b[0m\u001b[1;33m(\u001b[0m\u001b[0mt\u001b[0m\u001b[1;33m[\u001b[0m\u001b[1;36m0\u001b[0m\u001b[1;33m:\u001b[0m\u001b[1;36m3\u001b[0m\u001b[1;33m]\u001b[0m\u001b[1;33m)\u001b[0m\u001b[1;33m\u001b[0m\u001b[1;33m\u001b[0m\u001b[0m\n\u001b[1;32m----> 4\u001b[1;33m \u001b[0mt\u001b[0m\u001b[1;33m[\u001b[0m\u001b[1;36m0\u001b[0m\u001b[1;33m]\u001b[0m\u001b[1;33m=\u001b[0m\u001b[1;36m10\u001b[0m\u001b[1;33m\u001b[0m\u001b[1;33m\u001b[0m\u001b[0m\n\u001b[0m\u001b[0;32m      5\u001b[0m \u001b[0mprint\u001b[0m\u001b[1;33m(\u001b[0m\u001b[0mt\u001b[0m\u001b[1;33m)\u001b[0m\u001b[1;33m\u001b[0m\u001b[1;33m\u001b[0m\u001b[0m\n",
      "\u001b[1;31mTypeError\u001b[0m: 'tuple' object does not support item assignment"
     ]
    }
   ],
   "source": [
    "t = (5,'program', 1+3j)\n",
    "print(t[1])\n",
    "print(t[0:3])\n",
    "t[0]=10\n",
    "print(t)"
   ]
  },
  {
   "cell_type": "code",
   "execution_count": 46,
   "metadata": {},
   "outputs": [
    {
     "name": "stdout",
     "output_type": "stream",
     "text": [
      "{0, 1, 2, 3, 5, 6}\n"
     ]
    }
   ],
   "source": [
    "a = {1,2,2,0,5,6,3,5,3,3,3}\n",
    "print(a)"
   ]
  },
  {
   "cell_type": "code",
   "execution_count": 47,
   "metadata": {},
   "outputs": [
    {
     "name": "stdout",
     "output_type": "stream",
     "text": [
      "<class 'dict'>\n"
     ]
    }
   ],
   "source": [
    "d = {1:'value','key':2}\n",
    "print(type(d))"
   ]
  },
  {
   "cell_type": "code",
   "execution_count": 48,
   "metadata": {},
   "outputs": [
    {
     "ename": "TypeError",
     "evalue": "unhashable type: 'list'",
     "output_type": "error",
     "traceback": [
      "\u001b[1;31m---------------------------------------------------------------------------\u001b[0m",
      "\u001b[1;31mTypeError\u001b[0m                                 Traceback (most recent call last)",
      "\u001b[1;32m<ipython-input-48-3554d3991265>\u001b[0m in \u001b[0;36m<module>\u001b[1;34m\u001b[0m\n\u001b[1;32m----> 1\u001b[1;33m \u001b[0md\u001b[0m \u001b[1;33m=\u001b[0m \u001b[1;33m{\u001b[0m\u001b[0mx\u001b[0m\u001b[1;33m:\u001b[0m\u001b[1;34m'value'\u001b[0m\u001b[1;33m,\u001b[0m\u001b[1;34m't'\u001b[0m\u001b[1;33m:\u001b[0m\u001b[1;36m2\u001b[0m\u001b[1;33m}\u001b[0m\u001b[1;33m\u001b[0m\u001b[1;33m\u001b[0m\u001b[0m\n\u001b[0m\u001b[0;32m      2\u001b[0m \u001b[0mprint\u001b[0m\u001b[1;33m(\u001b[0m\u001b[0mtype\u001b[0m\u001b[1;33m(\u001b[0m\u001b[0md\u001b[0m\u001b[1;33m)\u001b[0m\u001b[1;33m)\u001b[0m\u001b[1;33m\u001b[0m\u001b[1;33m\u001b[0m\u001b[0m\n",
      "\u001b[1;31mTypeError\u001b[0m: unhashable type: 'list'"
     ]
    }
   ],
   "source": [
    "d = {x:'value','t':2}\n",
    "print(type(d))"
   ]
  },
  {
   "cell_type": "code",
   "execution_count": 49,
   "metadata": {},
   "outputs": [
    {
     "name": "stdout",
     "output_type": "stream",
     "text": [
      "{1: 'value', 'key': 2}\n"
     ]
    }
   ],
   "source": [
    "d = {1:'value','key':2}\n",
    "print((d))"
   ]
  },
  {
   "cell_type": "code",
   "execution_count": 50,
   "metadata": {},
   "outputs": [
    {
     "name": "stdout",
     "output_type": "stream",
     "text": [
      "<class 'dict'>\n",
      "d[1] =  value\n",
      "d['key'] =  2\n"
     ]
    }
   ],
   "source": [
    "d = {1:'value','key':2}\n",
    "print(type(d))\n",
    "print(\"d[1] = \", d[1]);\n",
    "print(\"d['key'] = \", d['key']);\n"
   ]
  },
  {
   "cell_type": "code",
   "execution_count": 52,
   "metadata": {},
   "outputs": [
    {
     "name": "stdout",
     "output_type": "stream",
     "text": [
      "kita hidup di reality\n"
     ]
    }
   ],
   "source": [
    "c = {'x':'dream', 'y':'reality'}\n",
    "print(\"kita hidup di\", c['y'])"
   ]
  },
  {
   "cell_type": "code",
   "execution_count": 53,
   "metadata": {},
   "outputs": [
    {
     "name": "stdout",
     "output_type": "stream",
     "text": [
      "kita hidup di reality bukan di dream\n"
     ]
    }
   ],
   "source": [
    "c = {'x':'dream', 'y':'reality'}\n",
    "print(\"kita hidup di\", c['y'], \"bukan di\", c['x'])"
   ]
  },
  {
   "cell_type": "code",
   "execution_count": 55,
   "metadata": {},
   "outputs": [
    {
     "name": "stdout",
     "output_type": "stream",
     "text": [
      "2.51\n"
     ]
    }
   ],
   "source": [
    "print(float('2.51'))"
   ]
  },
  {
   "cell_type": "code",
   "execution_count": 56,
   "metadata": {},
   "outputs": [
    {
     "name": "stdout",
     "output_type": "stream",
     "text": [
      "2.4\n"
     ]
    }
   ],
   "source": [
    "print(float('2.4'))"
   ]
  },
  {
   "cell_type": "code",
   "execution_count": 57,
   "metadata": {},
   "outputs": [
    {
     "name": "stdout",
     "output_type": "stream",
     "text": [
      "2.5\n"
     ]
    }
   ],
   "source": [
    "print(str('2.5'))"
   ]
  },
  {
   "cell_type": "code",
   "execution_count": 58,
   "metadata": {},
   "outputs": [
    {
     "ename": "ValueError",
     "evalue": "invalid literal for int() with base 10: '2.5'",
     "output_type": "error",
     "traceback": [
      "\u001b[1;31m---------------------------------------------------------------------------\u001b[0m",
      "\u001b[1;31mValueError\u001b[0m                                Traceback (most recent call last)",
      "\u001b[1;32m<ipython-input-58-47b722d0f432>\u001b[0m in \u001b[0;36m<module>\u001b[1;34m\u001b[0m\n\u001b[1;32m----> 1\u001b[1;33m \u001b[0mprint\u001b[0m\u001b[1;33m(\u001b[0m\u001b[0mint\u001b[0m\u001b[1;33m(\u001b[0m\u001b[1;34m'2.5'\u001b[0m\u001b[1;33m)\u001b[0m\u001b[1;33m)\u001b[0m\u001b[1;33m\u001b[0m\u001b[1;33m\u001b[0m\u001b[0m\n\u001b[0m",
      "\u001b[1;31mValueError\u001b[0m: invalid literal for int() with base 10: '2.5'"
     ]
    }
   ],
   "source": [
    "print(int('2.5'))"
   ]
  },
  {
   "cell_type": "code",
   "execution_count": 59,
   "metadata": {},
   "outputs": [
    {
     "name": "stdout",
     "output_type": "stream",
     "text": [
      "2.5\n"
     ]
    }
   ],
   "source": [
    "print(str('2.5'))"
   ]
  },
  {
   "cell_type": "code",
   "execution_count": 63,
   "metadata": {},
   "outputs": [
    {
     "name": "stdout",
     "output_type": "stream",
     "text": [
      "['F', 'e', 'd', 'y']\n"
     ]
    }
   ],
   "source": [
    "print(list('Fedy'))"
   ]
  },
  {
   "cell_type": "code",
   "execution_count": 65,
   "metadata": {},
   "outputs": [
    {
     "name": "stdout",
     "output_type": "stream",
     "text": [
      "{'x': 2, 'y': 4}\n"
     ]
    }
   ],
   "source": [
    "print(dict([['x',2],['y',4]]))"
   ]
  },
  {
   "cell_type": "code",
   "execution_count": 66,
   "metadata": {},
   "outputs": [
    {
     "name": "stdout",
     "output_type": "stream",
     "text": [
      "hai bro\n"
     ]
    }
   ],
   "source": [
    "print('hai {}'.format('bro'))"
   ]
  },
  {
   "cell_type": "code",
   "execution_count": 68,
   "metadata": {},
   "outputs": [
    {
     "name": "stdout",
     "output_type": "stream",
     "text": [
      "namaku fedy\n"
     ]
    }
   ],
   "source": [
    "print('namaku {}'.format('fedy'))"
   ]
  },
  {
   "cell_type": "code",
   "execution_count": 69,
   "metadata": {},
   "outputs": [
    {
     "name": "stdout",
     "output_type": "stream",
     "text": [
      "hai bro namaku\n"
     ]
    }
   ],
   "source": [
    "print('hai {} namaku'.format('bro'))"
   ]
  },
  {
   "cell_type": "code",
   "execution_count": 71,
   "metadata": {},
   "outputs": [
    {
     "name": "stdout",
     "output_type": "stream",
     "text": [
      "hai bro namaku fedy\n"
     ]
    }
   ],
   "source": [
    "print('hai {} namaku {}'.format('bro','fedy'))"
   ]
  },
  {
   "cell_type": "code",
   "execution_count": 78,
   "metadata": {},
   "outputs": [
    {
     "ename": "ValueError",
     "evalue": "incomplete format",
     "output_type": "error",
     "traceback": [
      "\u001b[1;31m---------------------------------------------------------------------------\u001b[0m",
      "\u001b[1;31mValueError\u001b[0m                                Traceback (most recent call last)",
      "\u001b[1;32m<ipython-input-78-d3c454db1404>\u001b[0m in \u001b[0;36m<module>\u001b[1;34m\u001b[0m\n\u001b[0;32m      1\u001b[0m \u001b[0mnama\u001b[0m \u001b[1;33m=\u001b[0m \u001b[1;34m\"Dicoding\"\u001b[0m\u001b[1;33m\u001b[0m\u001b[1;33m\u001b[0m\u001b[0m\n\u001b[1;32m----> 2\u001b[1;33m \u001b[0mprint\u001b[0m\u001b[1;33m(\u001b[0m\u001b[1;34m\"Halo, %\"\u001b[0m \u001b[1;33m%\u001b[0m \u001b[0mnama\u001b[0m\u001b[1;33m)\u001b[0m\u001b[1;33m\u001b[0m\u001b[1;33m\u001b[0m\u001b[0m\n\u001b[0m",
      "\u001b[1;31mValueError\u001b[0m: incomplete format"
     ]
    }
   ],
   "source": [
    "nama = \"Dicoding\"\n",
    "print(\"Halo, %s\" % nama)"
   ]
  },
  {
   "cell_type": "code",
   "execution_count": 79,
   "metadata": {},
   "outputs": [
    {
     "name": "stdout",
     "output_type": "stream",
     "text": [
      "halo, namaku Fedy!\n"
     ]
    }
   ],
   "source": [
    "nama = \"Fedy\"\n",
    "print(\"halo, namaku %s!\" % nama)"
   ]
  },
  {
   "cell_type": "code",
   "execution_count": 82,
   "metadata": {},
   "outputs": [
    {
     "name": "stdout",
     "output_type": "stream",
     "text": [
      "halo, namaku Fedy! bos\n"
     ]
    }
   ],
   "source": [
    "nama = \"Fedy\"\n",
    "print(\"halo, namaku %s! bos\" % nama)"
   ]
  },
  {
   "cell_type": "code",
   "execution_count": 86,
   "metadata": {},
   "outputs": [
    {
     "name": "stdout",
     "output_type": "stream",
     "text": [
      "rumah kok kayu\n"
     ]
    }
   ],
   "source": [
    "tulisan = \"kok\"\n",
    "print(\"rumah %s kayu\" % tulisan)"
   ]
  },
  {
   "cell_type": "code",
   "execution_count": 92,
   "metadata": {},
   "outputs": [
    {
     "name": "stdout",
     "output_type": "stream",
     "text": [
      "halo, namaku fedy, saya berumur 21 tahun\n"
     ]
    }
   ],
   "source": [
    "nama = \"fedy\"\n",
    "umur = 21\n",
    "print(\"halo, namaku %s, saya berumur %d tahun\" %(nama,umur))\n"
   ]
  },
  {
   "cell_type": "code",
   "execution_count": 93,
   "metadata": {},
   "outputs": [
    {
     "name": "stdout",
     "output_type": "stream",
     "text": [
      "a: a and b: B\n"
     ]
    }
   ],
   "source": [
    "a, b = 10, 11\n",
    "a, b\n",
    "print('a: %x and b: %X' % (a, b))"
   ]
  },
  {
   "cell_type": "code",
   "execution_count": 94,
   "metadata": {},
   "outputs": [
    {
     "name": "stdout",
     "output_type": "stream",
     "text": [
      "a: a and b: B\n"
     ]
    }
   ],
   "source": [
    "a, b = 10, 11\n",
    "print('a: %x and b: %X' % (a,b))"
   ]
  },
  {
   "cell_type": "code",
   "execution_count": 98,
   "metadata": {},
   "outputs": [
    {
     "name": "stdout",
     "output_type": "stream",
     "text": [
      "lebih dulu 10 lalu 11\n"
     ]
    }
   ],
   "source": [
    "h, i = 10, 11\n",
    "print('lebih dulu %d lalu %d' % (h,i))"
   ]
  },
  {
   "cell_type": "code",
   "execution_count": 96,
   "metadata": {},
   "outputs": [
    {
     "ename": "SyntaxError",
     "evalue": "invalid syntax (<ipython-input-96-46b1cdee56f1>, line 1)",
     "output_type": "error",
     "traceback": [
      "\u001b[1;36m  File \u001b[1;32m\"<ipython-input-96-46b1cdee56f1>\"\u001b[1;36m, line \u001b[1;32m1\u001b[0m\n\u001b[1;33m    print(%X)\u001b[0m\n\u001b[1;37m          ^\u001b[0m\n\u001b[1;31mSyntaxError\u001b[0m\u001b[1;31m:\u001b[0m invalid syntax\n"
     ]
    }
   ],
   "source": [
    "print(%X)"
   ]
  },
  {
   "cell_type": "code",
   "execution_count": 99,
   "metadata": {},
   "outputs": [
    {
     "name": "stdout",
     "output_type": "stream",
     "text": [
      "a: a and b: B\n"
     ]
    }
   ],
   "source": [
    "a, b = 10, 11\n",
    "a, b\n",
    "print('a: %x and b: %X' % (a, b))"
   ]
  },
  {
   "cell_type": "code",
   "execution_count": 100,
   "metadata": {},
   "outputs": [
    {
     "name": "stdout",
     "output_type": "stream",
     "text": [
      "10 11\n",
      "a: a and b: B\n"
     ]
    }
   ],
   "source": [
    "a, b = 10, 11\n",
    "print(a, b)\n",
    "print('a: %x and b: %X' % (a, b))"
   ]
  },
  {
   "cell_type": "code",
   "execution_count": 103,
   "metadata": {},
   "outputs": [
    {
     "name": "stdout",
     "output_type": "stream",
     "text": [
      "10 11\n",
      "x: a and y: B\n"
     ]
    }
   ],
   "source": [
    "r, s = 10, 11\n",
    "print(r, s)\n",
    "print('x: %x and y: %X' % (r, s))"
   ]
  },
  {
   "cell_type": "code",
   "execution_count": 108,
   "metadata": {},
   "outputs": [
    {
     "name": "stdout",
     "output_type": "stream",
     "text": [
      "3.145435838\n"
     ]
    },
    {
     "ename": "ValueError",
     "evalue": "unsupported format character '<' (0x3c) at index 5",
     "output_type": "error",
     "traceback": [
      "\u001b[1;31m---------------------------------------------------------------------------\u001b[0m",
      "\u001b[1;31mValueError\u001b[0m                                Traceback (most recent call last)",
      "\u001b[1;32m<ipython-input-108-6bfb1737a8e1>\u001b[0m in \u001b[0;36m<module>\u001b[1;34m\u001b[0m\n\u001b[0;32m      1\u001b[0m \u001b[0mr\u001b[0m \u001b[1;33m=\u001b[0m \u001b[1;36m3.145435838\u001b[0m\u001b[1;33m\u001b[0m\u001b[1;33m\u001b[0m\u001b[0m\n\u001b[0;32m      2\u001b[0m \u001b[0mprint\u001b[0m\u001b[1;33m(\u001b[0m\u001b[0mr\u001b[0m\u001b[1;33m)\u001b[0m\u001b[1;33m\u001b[0m\u001b[1;33m\u001b[0m\u001b[0m\n\u001b[1;32m----> 3\u001b[1;33m \u001b[0mprint\u001b[0m \u001b[1;33m(\u001b[0m\u001b[1;34m'r: %.<2>f'\u001b[0m \u001b[1;33m%\u001b[0m \u001b[0mr\u001b[0m\u001b[1;33m)\u001b[0m\u001b[1;33m\u001b[0m\u001b[1;33m\u001b[0m\u001b[0m\n\u001b[0m",
      "\u001b[1;31mValueError\u001b[0m: unsupported format character '<' (0x3c) at index 5"
     ]
    }
   ],
   "source": [
    "r = 3.145435838\n",
    "print(r)\n",
    "print ('r: %.<2>f' % r) "
   ]
  },
  {
   "cell_type": "code",
   "execution_count": 112,
   "metadata": {},
   "outputs": [
    {
     "ename": "SyntaxError",
     "evalue": "invalid syntax (<ipython-input-112-fcbc3977d084>, line 4)",
     "output_type": "error",
     "traceback": [
      "\u001b[1;36m  File \u001b[1;32m\"<ipython-input-112-fcbc3977d084>\"\u001b[1;36m, line \u001b[1;32m4\u001b[0m\n\u001b[1;33m    else print(\"ilai anda diatas KKM, anda lulus\")\u001b[0m\n\u001b[1;37m         ^\u001b[0m\n\u001b[1;31mSyntaxError\u001b[0m\u001b[1;31m:\u001b[0m invalid syntax\n"
     ]
    }
   ],
   "source": [
    "nilai = input('Masukkan angka : ')\n",
    "if nilai < 75:\n",
    "    print(\"ilai dibawah KKM, lakukan remedial\")\n",
    "else print(\"ilai anda diatas KKM, anda lulus\")"
   ]
  },
  {
   "cell_type": "code",
   "execution_count": 114,
   "metadata": {},
   "outputs": [
    {
     "ename": "SyntaxError",
     "evalue": "invalid syntax (<ipython-input-114-47d8c6409424>, line 4)",
     "output_type": "error",
     "traceback": [
      "\u001b[1;36m  File \u001b[1;32m\"<ipython-input-114-47d8c6409424>\"\u001b[1;36m, line \u001b[1;32m4\u001b[0m\n\u001b[1;33m    else print('lulus')\u001b[0m\n\u001b[1;37m         ^\u001b[0m\n\u001b[1;31mSyntaxError\u001b[0m\u001b[1;31m:\u001b[0m invalid syntax\n"
     ]
    }
   ],
   "source": [
    "nilai = input('Masukkan angka : ')\n",
    "if (nilai < 75):\n",
    "    print('Remedial')\n",
    "else print('lulus')"
   ]
  },
  {
   "cell_type": "code",
   "execution_count": null,
   "metadata": {},
   "outputs": [],
   "source": [
    "nilai = int(input('masukkan nilai anda : '))\n",
    "\n",
    "if nilai < 75:\n",
    "    print(\"remedial\")\n",
    "else:\n",
    "    while nilai >= 75:\n",
    "        print(\"Anda lulus\")"
   ]
  },
  {
   "cell_type": "code",
   "execution_count": 112,
   "metadata": {},
   "outputs": [
    {
     "name": "stdout",
     "output_type": "stream",
     "text": [
      "masukkan nilai tugas : 765\n"
     ]
    },
    {
     "ename": "TypeError",
     "evalue": "'>=' not supported between instances of 'str' and 'int'",
     "output_type": "error",
     "traceback": [
      "\u001b[1;31m---------------------------------------------------------------------------\u001b[0m",
      "\u001b[1;31mTypeError\u001b[0m                                 Traceback (most recent call last)",
      "\u001b[1;32m<ipython-input-112-11b014f9a5c9>\u001b[0m in \u001b[0;36m<module>\u001b[1;34m\u001b[0m\n\u001b[0;32m      1\u001b[0m \u001b[0mtugas\u001b[0m \u001b[1;33m=\u001b[0m \u001b[0mint\u001b[0m\u001b[1;33m(\u001b[0m\u001b[0minput\u001b[0m\u001b[1;33m(\u001b[0m\u001b[1;34m'masukkan nilai tugas : '\u001b[0m\u001b[1;33m)\u001b[0m\u001b[1;33m)\u001b[0m\u001b[1;33m\u001b[0m\u001b[1;33m\u001b[0m\u001b[0m\n\u001b[0;32m      2\u001b[0m \u001b[1;33m\u001b[0m\u001b[0m\n\u001b[1;32m----> 3\u001b[1;33m \u001b[1;32mif\u001b[0m \u001b[0mnilai\u001b[0m \u001b[1;33m>=\u001b[0m \u001b[1;36m75\u001b[0m\u001b[1;33m:\u001b[0m\u001b[1;33m\u001b[0m\u001b[1;33m\u001b[0m\u001b[0m\n\u001b[0m\u001b[0;32m      4\u001b[0m     \u001b[0mprint\u001b[0m\u001b[1;33m(\u001b[0m\u001b[1;34m\"Anda lulus\"\u001b[0m\u001b[1;33m)\u001b[0m\u001b[1;33m\u001b[0m\u001b[1;33m\u001b[0m\u001b[0m\n\u001b[0;32m      5\u001b[0m \u001b[1;32melse\u001b[0m\u001b[1;33m:\u001b[0m\u001b[1;33m\u001b[0m\u001b[1;33m\u001b[0m\u001b[0m\n",
      "\u001b[1;31mTypeError\u001b[0m: '>=' not supported between instances of 'str' and 'int'"
     ]
    }
   ],
   "source": [
    "tugas = int(input('masukkan nilai tugas : '))\n",
    "\n",
    "if nilai >= 75:\n",
    "    print(\"Anda lulus\")\n",
    "else:\n",
    "    while nilai < 75:\n",
    "        print(\"Remedial\")"
   ]
  },
  {
   "cell_type": "code",
   "execution_count": 120,
   "metadata": {},
   "outputs": [
    {
     "name": "stdout",
     "output_type": "stream",
     "text": [
      "Masukkan nilai tugas : 70\n",
      "70.0\n"
     ]
    }
   ],
   "source": [
    "nilai = (input(\"Masukkan nilai tugas : \"))\n",
    "print(float(nilai))"
   ]
  },
  {
   "cell_type": "code",
   "execution_count": 121,
   "metadata": {},
   "outputs": [
    {
     "name": "stdout",
     "output_type": "stream",
     "text": [
      "Masukkan nilai tugas : 90*20\n",
      "1800\n"
     ]
    }
   ],
   "source": [
    "nilai = (input(\"Masukkan nilai tugas : \"))\n",
    "print(eval(nilai))"
   ]
  },
  {
   "cell_type": "code",
   "execution_count": 1,
   "metadata": {},
   "outputs": [
    {
     "name": "stdout",
     "output_type": "stream",
     "text": [
      "<class 'int'>\n"
     ]
    }
   ],
   "source": [
    "x = 6\n",
    "print(type(x))"
   ]
  },
  {
   "cell_type": "code",
   "execution_count": 2,
   "metadata": {},
   "outputs": [
    {
     "name": "stdout",
     "output_type": "stream",
     "text": [
      "<class 'int'>\n",
      "<class 'str'>\n"
     ]
    }
   ],
   "source": [
    "x = 6\n",
    "print(type(x))\n",
    "\n",
    "x = 'Hello'\n",
    "print(type(x))"
   ]
  },
  {
   "cell_type": "code",
   "execution_count": 9,
   "metadata": {},
   "outputs": [],
   "source": [
    "if False:\n",
    "    9 + \"satu\"  # Baris ini tidak dioperasikan, sehingga tidak muncul notifikasi TypeError\n",
    "else:\n",
    "    9 + 1"
   ]
  },
  {
   "cell_type": "code",
   "execution_count": 10,
   "metadata": {},
   "outputs": [
    {
     "data": {
      "text/plain": [
       "10"
      ]
     },
     "execution_count": 10,
     "metadata": {},
     "output_type": "execute_result"
    }
   ],
   "source": [
    "9 + 1"
   ]
  },
  {
   "cell_type": "code",
   "execution_count": 12,
   "metadata": {},
   "outputs": [],
   "source": [
    "if False:\n",
    "    9 + \"satu\"\n",
    "else:\n",
    "    9 + 1"
   ]
  },
  {
   "cell_type": "code",
   "execution_count": 16,
   "metadata": {},
   "outputs": [
    {
     "ename": "SyntaxError",
     "evalue": "unexpected EOF while parsing (<ipython-input-16-5010a7695d80>, line 2)",
     "output_type": "error",
     "traceback": [
      "\u001b[1;36m  File \u001b[1;32m\"<ipython-input-16-5010a7695d80>\"\u001b[1;36m, line \u001b[1;32m2\u001b[0m\n\u001b[1;33m    print(len(int(x))\u001b[0m\n\u001b[1;37m                     ^\u001b[0m\n\u001b[1;31mSyntaxError\u001b[0m\u001b[1;31m:\u001b[0m unexpected EOF while parsing\n"
     ]
    }
   ],
   "source": [
    "x = 709327598409283\n",
    "print(len(x))\n"
   ]
  },
  {
   "cell_type": "code",
   "execution_count": 15,
   "metadata": {},
   "outputs": [
    {
     "name": "stdout",
     "output_type": "stream",
     "text": [
      "15\n"
     ]
    }
   ],
   "source": [
    "y = \"my name is fedy\"\n",
    "print(len(y))"
   ]
  },
  {
   "cell_type": "code",
   "execution_count": 18,
   "metadata": {},
   "outputs": [
    {
     "name": "stdout",
     "output_type": "stream",
     "text": [
      "NAMA SAYA FEDY RAHMATULLAH\n"
     ]
    }
   ],
   "source": [
    "word = \"nama saya fedy rahmatullah\"\n",
    "word = word.upper()\n",
    "print(word)"
   ]
  },
  {
   "cell_type": "code",
   "execution_count": 19,
   "metadata": {},
   "outputs": [
    {
     "name": "stdout",
     "output_type": "stream",
     "text": [
      "nama saya fedy rahmatullah\n"
     ]
    }
   ],
   "source": [
    "word = \"nama saya Fedy Rahmatullah\"\n",
    "word = word.lower()\n",
    "print(word)"
   ]
  },
  {
   "cell_type": "code",
   "execution_count": 22,
   "metadata": {},
   "outputs": [
    {
     "name": "stdout",
     "output_type": "stream",
     "text": [
      "fedynama\n"
     ]
    }
   ],
   "source": [
    "print(\"fedy\"        \"nama\"   .rstrip())"
   ]
  },
  {
   "cell_type": "code",
   "execution_count": 23,
   "metadata": {
    "scrolled": true
   },
   "outputs": [
    {
     "name": "stdout",
     "output_type": "stream",
     "text": [
      "fedy\n"
     ]
    }
   ],
   "source": [
    "print(\"fedy\"          .rstrip())"
   ]
  },
  {
   "cell_type": "code",
   "execution_count": 24,
   "metadata": {},
   "outputs": [
    {
     "name": "stdout",
     "output_type": "stream",
     "text": [
      "fedy\n"
     ]
    }
   ],
   "source": [
    "print(     \"fedy\"    .lstrip())"
   ]
  },
  {
   "cell_type": "code",
   "execution_count": 25,
   "metadata": {},
   "outputs": [
    {
     "name": "stdout",
     "output_type": "stream",
     "text": [
      "fedy\n"
     ]
    }
   ],
   "source": [
    "print(     \"fedy\"    .strip())"
   ]
  },
  {
   "cell_type": "code",
   "execution_count": 27,
   "metadata": {},
   "outputs": [
    {
     "name": "stdout",
     "output_type": "stream",
     "text": [
      "namasayafedyrahmatullah\n"
     ]
    }
   ],
   "source": [
    "word = \"namasayafedyrahmatullah\"\n",
    "print(word.strip(\"saya\"))"
   ]
  },
  {
   "cell_type": "code",
   "execution_count": 28,
   "metadata": {},
   "outputs": [
    {
     "name": "stdout",
     "output_type": "stream",
     "text": [
      "Dicoding\n"
     ]
    }
   ],
   "source": [
    "kata = 'CodeCodeDicodingCodeCode'\n",
    "print(kata.strip('Code'))"
   ]
  },
  {
   "cell_type": "code",
   "execution_count": 33,
   "metadata": {},
   "outputs": [
    {
     "name": "stdout",
     "output_type": "stream",
     "text": [
      "namasayafedyrahmatullah\n"
     ]
    }
   ],
   "source": [
    "word = 'namasayafedyrahmatullah'\n",
    "print(word.lstrip('saya'))"
   ]
  },
  {
   "cell_type": "code",
   "execution_count": 32,
   "metadata": {},
   "outputs": [
    {
     "name": "stdout",
     "output_type": "stream",
     "text": [
      "fedyrahmatullah\n"
     ]
    }
   ],
   "source": [
    "word = 'sayasayafedyrahmatullahsayasaya'\n",
    "print(word.strip('saya'))"
   ]
  },
  {
   "cell_type": "code",
   "execution_count": 34,
   "metadata": {},
   "outputs": [
    {
     "ename": "SyntaxError",
     "evalue": "invalid syntax (<ipython-input-34-7b843123ba7b>, line 2)",
     "output_type": "error",
     "traceback": [
      "\u001b[1;36m  File \u001b[1;32m\"<ipython-input-34-7b843123ba7b>\"\u001b[1;36m, line \u001b[1;32m2\u001b[0m\n\u001b[1;33m    print(word.del('saya'))\u001b[0m\n\u001b[1;37m               ^\u001b[0m\n\u001b[1;31mSyntaxError\u001b[0m\u001b[1;31m:\u001b[0m invalid syntax\n"
     ]
    }
   ],
   "source": [
    "word = 'namasayafedyrahmatullah'\n",
    "print(word.del('saya'))"
   ]
  },
  {
   "cell_type": "code",
   "execution_count": 35,
   "metadata": {},
   "outputs": [
    {
     "name": "stdout",
     "output_type": "stream",
     "text": [
      "True\n"
     ]
    }
   ],
   "source": [
    "print('Dicoding Indonesia'.startswith('Dicoding'))"
   ]
  },
  {
   "cell_type": "code",
   "execution_count": 36,
   "metadata": {},
   "outputs": [
    {
     "name": "stdout",
     "output_type": "stream",
     "text": [
      "False\n"
     ]
    }
   ],
   "source": [
    "print('Dicoding Indonesia'.startswith('Nama'))"
   ]
  },
  {
   "cell_type": "code",
   "execution_count": 40,
   "metadata": {},
   "outputs": [
    {
     "name": "stdout",
     "output_type": "stream",
     "text": [
      "Dicoding Indonesia\n"
     ]
    }
   ],
   "source": [
    "x = 'Dicoding Indonesia'\n",
    "if x.startswith('Dicoding'):\n",
    "    print(x)\n",
    "else:\n",
    "    print('salah')\n",
    "    "
   ]
  },
  {
   "cell_type": "code",
   "execution_count": 41,
   "metadata": {},
   "outputs": [
    {
     "name": "stdout",
     "output_type": "stream",
     "text": [
      "True\n"
     ]
    }
   ],
   "source": [
    "print('Dicoding Indonesia'.endswith('Indonesia'))"
   ]
  },
  {
   "cell_type": "code",
   "execution_count": 42,
   "metadata": {},
   "outputs": [
    {
     "name": "stdout",
     "output_type": "stream",
     "text": [
      "Dicoding Indonesia !\n"
     ]
    }
   ],
   "source": [
    " print(' '.join(['Dicoding', 'Indonesia', '!']))"
   ]
  },
  {
   "cell_type": "code",
   "execution_count": 44,
   "metadata": {},
   "outputs": [
    {
     "name": "stdout",
     "output_type": "stream",
     "text": [
      "Dicoding Indonesia !\n"
     ]
    }
   ],
   "source": [
    "x = \"Dicoding\"\n",
    "y = \"Indonesia\"\n",
    "z = \"!\"\n",
    "print(\" \".join([x, y, z]))"
   ]
  },
  {
   "cell_type": "code",
   "execution_count": 45,
   "metadata": {},
   "outputs": [
    {
     "name": "stdout",
     "output_type": "stream",
     "text": [
      "Dicoding123Indonesia123!\n"
     ]
    }
   ],
   "source": [
    "print('123'.join(['Dicoding', 'Indonesia', '!']))"
   ]
  },
  {
   "cell_type": "code",
   "execution_count": 46,
   "metadata": {},
   "outputs": [
    {
     "name": "stdout",
     "output_type": "stream",
     "text": [
      "['Dicoding', 'Indonesia', '!']\n"
     ]
    }
   ],
   "source": [
    "x = \"Dicoding Indonesia !\"\n",
    "print(x.split())"
   ]
  },
  {
   "cell_type": "code",
   "execution_count": 47,
   "metadata": {},
   "outputs": [
    {
     "ename": "TypeError",
     "evalue": "must be str or None, not int",
     "output_type": "error",
     "traceback": [
      "\u001b[1;31m---------------------------------------------------------------------------\u001b[0m",
      "\u001b[1;31mTypeError\u001b[0m                                 Traceback (most recent call last)",
      "\u001b[1;32m<ipython-input-47-af066ae9c5fa>\u001b[0m in \u001b[0;36m<module>\u001b[1;34m\u001b[0m\n\u001b[0;32m      1\u001b[0m \u001b[0mx\u001b[0m \u001b[1;33m=\u001b[0m \u001b[1;34m\"Dicoding Indonesia !\"\u001b[0m\u001b[1;33m\u001b[0m\u001b[1;33m\u001b[0m\u001b[0m\n\u001b[1;32m----> 2\u001b[1;33m \u001b[0mprint\u001b[0m\u001b[1;33m(\u001b[0m\u001b[0mx\u001b[0m\u001b[1;33m.\u001b[0m\u001b[0msplit\u001b[0m\u001b[1;33m(\u001b[0m\u001b[1;36m123\u001b[0m\u001b[1;33m)\u001b[0m\u001b[1;33m)\u001b[0m\u001b[1;33m\u001b[0m\u001b[1;33m\u001b[0m\u001b[0m\n\u001b[0m",
      "\u001b[1;31mTypeError\u001b[0m: must be str or None, not int"
     ]
    }
   ],
   "source": [
    "x = \"Dicoding Indonesia !\"\n",
    "print(x.split(123))"
   ]
  },
  {
   "cell_type": "code",
   "execution_count": 48,
   "metadata": {},
   "outputs": [
    {
     "name": "stdout",
     "output_type": "stream",
     "text": [
      "['Dicoding', 'Indonesia', '!']\n"
     ]
    }
   ],
   "source": [
    "print('Dicoding123Indonesia123!'.split('123'))"
   ]
  },
  {
   "cell_type": "code",
   "execution_count": 49,
   "metadata": {},
   "outputs": [
    {
     "name": "stdout",
     "output_type": "stream",
     "text": [
      "['Halo,', 'aku ikan,', 'aku suka sekali menyelam', 'aku tinggal di perairan.', 'Badanku licin dan renangku cepat.', 'Senang berkenalan denganmu.']\n"
     ]
    }
   ],
   "source": [
    "print('''Halo,\n",
    "aku ikan,\n",
    "aku suka sekali menyelam\n",
    "aku tinggal di perairan.\n",
    "Badanku licin dan renangku cepat.\n",
    "Senang berkenalan denganmu.'''.split('\\n'))"
   ]
  },
  {
   "cell_type": "code",
   "execution_count": 50,
   "metadata": {},
   "outputs": [
    {
     "name": "stdout",
     "output_type": "stream",
     "text": [
      "['hidup', 'itu', 'harus', 'punya', 'motivasi', 'agar', 'lebih', 'maju.', 'satu', 'motivasi', 'bisa', 'mengubah', 'hidupmu.', 'silahkan', 'follow', 'saya', 'sekarang']\n"
     ]
    }
   ],
   "source": [
    "x = \"Hidup itu harus punya MOTIVASI agar lebih MAJU. Satu motivasi bisa mengubah hidupmu. silahkan FOLLOW SAYA SEKARANG\"\n",
    "x = x.lower()\n",
    "print(x.split())"
   ]
  },
  {
   "cell_type": "code",
   "execution_count": 51,
   "metadata": {},
   "outputs": [
    {
     "name": "stdout",
     "output_type": "stream",
     "text": [
      "Ayo belajar Pemrograman di Dicoding\n"
     ]
    }
   ],
   "source": [
    "string = \"Ayo belajar Coding di Dicoding\"\n",
    "print(string.replace(\"Coding\", \"Pemrograman\"))"
   ]
  },
  {
   "cell_type": "code",
   "execution_count": 53,
   "metadata": {},
   "outputs": [
    {
     "name": "stdout",
     "output_type": "stream",
     "text": [
      "hidup itu harus punya motivasi agar lebih maju. satu motivasi bisa mengubah hidupmu. silahkan follow saya sekarang\n",
      "['hidup', 'itu', 'harus', 'punya', 'motivasi', 'agar', 'lebih', 'maju.', 'satu', 'motivasi', 'bisa', 'mengubah', 'hidupmu.', 'silahkan', 'follow', 'saya', 'sekarang']\n"
     ]
    }
   ],
   "source": [
    "x = \"Hidup itu harus punya MOTIVASI agar lebih MAJU. Satu motivasi bisa mengubah hidupmu. silahkan FOLLOW SAYA SEKARANG\"\n",
    "x = x.lower()\n",
    "print(x.replace(\"MOTIVASI\", \"uang\"))\n",
    "print(x.split())"
   ]
  },
  {
   "cell_type": "code",
   "execution_count": 4,
   "metadata": {},
   "outputs": [
    {
     "ename": "SyntaxError",
     "evalue": "invalid syntax (<ipython-input-4-8e9d3fea5f99>, line 1)",
     "output_type": "error",
     "traceback": [
      "\u001b[1;36m  File \u001b[1;32m\"<ipython-input-4-8e9d3fea5f99>\"\u001b[1;36m, line \u001b[1;32m1\u001b[0m\n\u001b[1;33m    x = ['created_at': 'Mon Mar 01 05:17:22 +0000 2021', 'id': 1366256224178745344, 'id_str': '1366256224178745344', 'text': 'RT @bharianmy: #BHNasional Bagi disenaraikan sebagai penerima suntikan vaksin COVID-19.\\n\\n#Covid19 #Vaksin\\n\\nhttps://t.co/UBEJR04HN6', 'truncated': false, 'entities': ['hashtags': [['text': 'BHNasional', 'indices': [15, 26]], ['text': 'Covid19', 'indices': [89, 97]], ['text': 'Vaksin', 'indices': [98, 105]]], 'symbols': [], 'user_mentions': [['screen_name': 'bharianmy', 'name': 'Berita Harian', 'id': 63070483, 'id_str': '63070483', 'indices': [3, 13]]], 'urls': [['url': 'https://t.co/UBEJR04HN6', 'expanded_url': 'https://bit.ly/2ZZEukk', 'display_url': 'bit.ly/2ZZEukk', 'indices': [107, 130]]]], 'metadata': ['iso_language_code': 'in', 'result_type': 'recent'], 'source': '<a href=\\'http://twitter.com/download/iphone\\' rel=\\'nofollow\\'>Twitter for iPhone</a>', 'in_reply_to_status_id': null, 'in_reply_to_status_id_str': null, 'in_reply_to_user_id': null, 'in_reply_to_user_id_str': null, 'in_reply_to_screen_name': null, 'user': ['id': 30249096, 'id_str': '30249096', 'name': 'Damia Norwin', 'screen_name': 'DamiaNorwin', 'location': 'Malaysia', 'description': 'Impatient audiophile and proud Malaysian \\ud83c\\uddf2\\ud83c\\uddfe', 'url': null, 'entities': ['description': ['urls': []]], 'protected': false, 'followers_count': 485, 'friends_count': 217, 'listed_count': 4, 'created_at': 'Fri Apr 10 16:19:24 +0000 2009', 'favourites_count': 5129, 'utc_offset': null, 'time_zone': null, 'geo_enabled': true, 'verified': false, 'statuses_count': 89460, 'lang': null, 'contributors_enabled': false, 'is_translator': false, 'is_translation_enabled': false, 'profile_background_color': '01050F', 'profile_background_image_url': 'http://abs.twimg.com/images/themes/theme4/bg.gif', 'profile_background_image_url_https': 'https://abs.twimg.com/images/themes/theme4/bg.gif', 'profile_background_tile': false, 'profile_image_url': 'http://pbs.twimg.com/profile_images/1330063019460747268/ZtdXLKWD_normal.jpg', 'profile_image_url_https': 'https://pbs.twimg.com/profile_images/1330063019460747268/ZtdXLKWD_normal.jpg', 'profile_banner_url': 'https://pbs.twimg.com/profile_banners/30249096/1605946711', 'profile_link_color': 'E0D9C9', 'profile_sidebar_border_color': 'FFFFFF', 'profile_sidebar_fill_color': '6E4B0D', 'profile_text_color': '07090A', 'profile_use_background_image': true, 'has_extended_profile': false, 'default_profile': false, 'default_profile_image': false, 'following': false, 'follow_request_sent': false, 'notifications': false, 'translator_type': 'none'], 'geo': null, 'coordinates': null, 'place': null, 'contributors': null, 'retweeted_status': ['created_at': 'Sun Feb 28 16:36:33 +0000 2021', 'id': 1366064758928134144, 'id_str': '1366064758928134144', 'text': '#BHNasional Bagi disenaraikan sebagai penerima suntikan vaksin COVID-19.\\n\\n#Covid19 #Vaksin\\n\\nhttps://t.co/UBEJR04HN6', 'truncated': false, 'entities': ['hashtags': [['text': 'BHNasional', 'indices': [0, 11]], ['text': 'Covid19', 'indices': [74, 82]], ['text': 'Vaksin', 'indices': [83, 90]]], 'symbols': [], 'user_mentions': [], 'urls': [['url': 'https://t.co/UBEJR04HN6', 'expanded_url': 'https://bit.ly/2ZZEukk', 'display_url': 'bit.ly/2ZZEukk', 'indices': [92, 115]]]], 'metadata': ['iso_language_code': 'in', 'result_type': 'recent'], 'source': '<a href=\\'https://sproutsocial.com\\' rel=\\'nofollow\\'>Sprout Social</a>', 'in_reply_to_status_id': null, 'in_reply_to_status_id_str': null, 'in_reply_to_user_id': null, 'in_reply_to_user_id_str': null, 'in_reply_to_screen_name': null, 'user': ['id': 63070483, 'id_str': '63070483', 'name': 'Berita Harian', 'screen_name': 'bharianmy', 'location': 'Malaysia', 'description': 'Wadah Pembaharuan. Ikuti kami juga di https://t.co/4L42T7AdB1', 'url': 'https://t.co/PRxGL2oqNu', 'entities': ['url': ['urls': [['url': 'https://t.co/PRxGL2oqNu', 'expanded_url': 'http://www.bharian.com.my/', 'display_url': 'bharian.com.my', 'indices': [0, 23]]]], 'description': ['urls': [['url': 'https://t.co/4L42T7AdB1', 'expanded_url': 'https://www.facebook.com/bhonline/', 'display_url': 'facebook.com/bhonline/', 'indices': [38, 61]]]]], 'protected': false, 'followers_count': 1532486, 'friends_count': 303, 'listed_count': 1894, 'created_at': 'Wed Aug 05 08:06:17 +0000 2009', 'favourites_count': 271, 'utc_offset': null, 'time_zone': null, 'geo_enabled': false, 'verified': true, 'statuses_count': 474818, 'lang': null, 'contributors_enabled': false, 'is_translator': false, 'is_translation_enabled': false, 'profile_background_color': 'F53527', 'profile_background_image_url': 'http://abs.twimg.com/images/themes/theme20/bg.png', 'profile_background_image_url_https': 'https://abs.twimg.com/images/themes/theme20/bg.png', 'profile_background_tile': false, 'profile_image_url': 'http://pbs.twimg.com/profile_images/1163257319397789696/CwcZmUPD_normal.jpg', 'profile_image_url_https': 'https://pbs.twimg.com/profile_images/1163257319397789696/CwcZmUPD_normal.jpg', 'profile_banner_url': 'https://pbs.twimg.com/profile_banners/63070483/1614527773', 'profile_link_color': 'D02B55', 'profile_sidebar_border_color': 'FFFFFF', 'profile_sidebar_fill_color': 'C9F4FF', 'profile_text_color': '3E4415', 'profile_use_background_image': true, 'has_extended_profile': true, 'default_profile': false, 'default_profile_image': false, 'following': false, 'follow_request_sent': false, 'notifications': false, 'translator_type': 'none'], 'geo': null, 'coordinates': null, 'place': null, 'contributors': null, 'is_quote_status': false, 'retweet_count': 35, 'favorite_count': 94, 'favorited': false, 'retweeted': false, 'possibly_sensitive': false, 'lang': 'in'], 'is_quote_status': false, 'retweet_count': 35, 'favorite_count': 0, 'favorited': false, 'retweeted': false, 'possibly_sensitive': false, 'lang': 'in']\u001b[0m\n\u001b[1;37m                     ^\u001b[0m\n\u001b[1;31mSyntaxError\u001b[0m\u001b[1;31m:\u001b[0m invalid syntax\n"
     ]
    }
   ],
   "source": [
    "x = ['created_at': 'Mon Mar 01 05:17:22 +0000 2021', 'id': 1366256224178745344, 'id_str': '1366256224178745344', 'text': 'RT @bharianmy: #BHNasional Bagi disenaraikan sebagai penerima suntikan vaksin COVID-19.\\n\\n#Covid19 #Vaksin\\n\\nhttps://t.co/UBEJR04HN6', 'truncated': false, 'entities': ['hashtags': [['text': 'BHNasional', 'indices': [15, 26]], ['text': 'Covid19', 'indices': [89, 97]], ['text': 'Vaksin', 'indices': [98, 105]]], 'symbols': [], 'user_mentions': [['screen_name': 'bharianmy', 'name': 'Berita Harian', 'id': 63070483, 'id_str': '63070483', 'indices': [3, 13]]], 'urls': [['url': 'https://t.co/UBEJR04HN6', 'expanded_url': 'https://bit.ly/2ZZEukk', 'display_url': 'bit.ly/2ZZEukk', 'indices': [107, 130]]]], 'metadata': ['iso_language_code': 'in', 'result_type': 'recent'], 'source': '<a href=\\'http://twitter.com/download/iphone\\' rel=\\'nofollow\\'>Twitter for iPhone</a>', 'in_reply_to_status_id': null, 'in_reply_to_status_id_str': null, 'in_reply_to_user_id': null, 'in_reply_to_user_id_str': null, 'in_reply_to_screen_name': null, 'user': ['id': 30249096, 'id_str': '30249096', 'name': 'Damia Norwin', 'screen_name': 'DamiaNorwin', 'location': 'Malaysia', 'description': 'Impatient audiophile and proud Malaysian \\ud83c\\uddf2\\ud83c\\uddfe', 'url': null, 'entities': ['description': ['urls': []]], 'protected': false, 'followers_count': 485, 'friends_count': 217, 'listed_count': 4, 'created_at': 'Fri Apr 10 16:19:24 +0000 2009', 'favourites_count': 5129, 'utc_offset': null, 'time_zone': null, 'geo_enabled': true, 'verified': false, 'statuses_count': 89460, 'lang': null, 'contributors_enabled': false, 'is_translator': false, 'is_translation_enabled': false, 'profile_background_color': '01050F', 'profile_background_image_url': 'http://abs.twimg.com/images/themes/theme4/bg.gif', 'profile_background_image_url_https': 'https://abs.twimg.com/images/themes/theme4/bg.gif', 'profile_background_tile': false, 'profile_image_url': 'http://pbs.twimg.com/profile_images/1330063019460747268/ZtdXLKWD_normal.jpg', 'profile_image_url_https': 'https://pbs.twimg.com/profile_images/1330063019460747268/ZtdXLKWD_normal.jpg', 'profile_banner_url': 'https://pbs.twimg.com/profile_banners/30249096/1605946711', 'profile_link_color': 'E0D9C9', 'profile_sidebar_border_color': 'FFFFFF', 'profile_sidebar_fill_color': '6E4B0D', 'profile_text_color': '07090A', 'profile_use_background_image': true, 'has_extended_profile': false, 'default_profile': false, 'default_profile_image': false, 'following': false, 'follow_request_sent': false, 'notifications': false, 'translator_type': 'none'], 'geo': null, 'coordinates': null, 'place': null, 'contributors': null, 'retweeted_status': ['created_at': 'Sun Feb 28 16:36:33 +0000 2021', 'id': 1366064758928134144, 'id_str': '1366064758928134144', 'text': '#BHNasional Bagi disenaraikan sebagai penerima suntikan vaksin COVID-19.\\n\\n#Covid19 #Vaksin\\n\\nhttps://t.co/UBEJR04HN6', 'truncated': false, 'entities': ['hashtags': [['text': 'BHNasional', 'indices': [0, 11]], ['text': 'Covid19', 'indices': [74, 82]], ['text': 'Vaksin', 'indices': [83, 90]]], 'symbols': [], 'user_mentions': [], 'urls': [['url': 'https://t.co/UBEJR04HN6', 'expanded_url': 'https://bit.ly/2ZZEukk', 'display_url': 'bit.ly/2ZZEukk', 'indices': [92, 115]]]], 'metadata': ['iso_language_code': 'in', 'result_type': 'recent'], 'source': '<a href=\\'https://sproutsocial.com\\' rel=\\'nofollow\\'>Sprout Social</a>', 'in_reply_to_status_id': null, 'in_reply_to_status_id_str': null, 'in_reply_to_user_id': null, 'in_reply_to_user_id_str': null, 'in_reply_to_screen_name': null, 'user': ['id': 63070483, 'id_str': '63070483', 'name': 'Berita Harian', 'screen_name': 'bharianmy', 'location': 'Malaysia', 'description': 'Wadah Pembaharuan. Ikuti kami juga di https://t.co/4L42T7AdB1', 'url': 'https://t.co/PRxGL2oqNu', 'entities': ['url': ['urls': [['url': 'https://t.co/PRxGL2oqNu', 'expanded_url': 'http://www.bharian.com.my/', 'display_url': 'bharian.com.my', 'indices': [0, 23]]]], 'description': ['urls': [['url': 'https://t.co/4L42T7AdB1', 'expanded_url': 'https://www.facebook.com/bhonline/', 'display_url': 'facebook.com/bhonline/', 'indices': [38, 61]]]]], 'protected': false, 'followers_count': 1532486, 'friends_count': 303, 'listed_count': 1894, 'created_at': 'Wed Aug 05 08:06:17 +0000 2009', 'favourites_count': 271, 'utc_offset': null, 'time_zone': null, 'geo_enabled': false, 'verified': true, 'statuses_count': 474818, 'lang': null, 'contributors_enabled': false, 'is_translator': false, 'is_translation_enabled': false, 'profile_background_color': 'F53527', 'profile_background_image_url': 'http://abs.twimg.com/images/themes/theme20/bg.png', 'profile_background_image_url_https': 'https://abs.twimg.com/images/themes/theme20/bg.png', 'profile_background_tile': false, 'profile_image_url': 'http://pbs.twimg.com/profile_images/1163257319397789696/CwcZmUPD_normal.jpg', 'profile_image_url_https': 'https://pbs.twimg.com/profile_images/1163257319397789696/CwcZmUPD_normal.jpg', 'profile_banner_url': 'https://pbs.twimg.com/profile_banners/63070483/1614527773', 'profile_link_color': 'D02B55', 'profile_sidebar_border_color': 'FFFFFF', 'profile_sidebar_fill_color': 'C9F4FF', 'profile_text_color': '3E4415', 'profile_use_background_image': true, 'has_extended_profile': true, 'default_profile': false, 'default_profile_image': false, 'following': false, 'follow_request_sent': false, 'notifications': false, 'translator_type': 'none'], 'geo': null, 'coordinates': null, 'place': null, 'contributors': null, 'is_quote_status': false, 'retweet_count': 35, 'favorite_count': 94, 'favorited': false, 'retweeted': false, 'possibly_sensitive': false, 'lang': 'in'], 'is_quote_status': false, 'retweet_count': 35, 'favorite_count': 0, 'favorited': false, 'retweeted': false, 'possibly_sensitive': false, 'lang': 'in']\n",
    "print(x[2])"
   ]
  },
  {
   "cell_type": "code",
   "execution_count": 55,
   "metadata": {},
   "outputs": [
    {
     "name": "stdout",
     "output_type": "stream",
     "text": [
      "['hidup', 'itu', 'harus', 'punya', 'uang', 'agar', 'lebih', 'maju.', 'satu', 'motivasi', 'bisa', 'mengubah', 'hidupmu.', 'silahkan', 'follow', 'saya', 'sekarang']\n"
     ]
    }
   ],
   "source": [
    "x = \"Hidup itu harus punya MOTIVASI agar lebih MAJU. Satu motivasi bisa mengubah hidupmu. silahkan FOLLOW SAYA SEKARANG\"\n",
    "x = x.replace(\"MOTIVASI\", \"uang\")\n",
    "x = x.lower()\n",
    "\n",
    "print(x.split())"
   ]
  },
  {
   "cell_type": "code",
   "execution_count": 56,
   "metadata": {},
   "outputs": [
    {
     "name": "stdout",
     "output_type": "stream",
     "text": [
      "Ayo belajar Pemrograman di Dicoding karena Coding adalah bahasa masa depan\n"
     ]
    }
   ],
   "source": [
    "string = \"Ayo belajar Coding di Dicoding karena Coding adalah bahasa masa depan\"\n",
    "print(string.replace(\"Coding\", \"Pemrograman\", 1))"
   ]
  },
  {
   "cell_type": "code",
   "execution_count": 58,
   "metadata": {},
   "outputs": [
    {
     "data": {
      "text/plain": [
       "True"
      ]
     },
     "execution_count": 58,
     "metadata": {},
     "output_type": "execute_result"
    }
   ],
   "source": [
    "kata = 'DICODING'\n",
    "kata.isupper()"
   ]
  },
  {
   "cell_type": "code",
   "execution_count": 59,
   "metadata": {},
   "outputs": [
    {
     "data": {
      "text/plain": [
       "False"
      ]
     },
     "execution_count": 59,
     "metadata": {},
     "output_type": "execute_result"
    }
   ],
   "source": [
    "x = 'Nama Saya Fedy'\n",
    "x.isupper()"
   ]
  },
  {
   "cell_type": "code",
   "execution_count": 73,
   "metadata": {},
   "outputs": [
    {
     "data": {
      "text/plain": [
       "True"
      ]
     },
     "execution_count": 73,
     "metadata": {},
     "output_type": "execute_result"
    }
   ],
   "source": [
    "x = 'nama saya fedy'\n",
    "x.islower()"
   ]
  },
  {
   "cell_type": "code",
   "execution_count": 69,
   "metadata": {},
   "outputs": [
    {
     "name": "stdout",
     "output_type": "stream",
     "text": [
      "dicoding\n",
      "DICODING\n",
      "True\n",
      "False\n"
     ]
    }
   ],
   "source": [
    "print('Dicoding'.upper().lower())\n",
    "print('Dicoding'.lower().upper())\n",
    "print('DICODING'.upper().lower().islower())\n",
    "print('DICODING'.upper().lower().isupper())"
   ]
  },
  {
   "cell_type": "code",
   "execution_count": 75,
   "metadata": {},
   "outputs": [
    {
     "name": "stdout",
     "output_type": "stream",
     "text": [
      "True\n"
     ]
    }
   ],
   "source": [
    "x = 'Dicoding'\n",
    "print(x.upper().lower().isalpha())\n"
   ]
  },
  {
   "cell_type": "code",
   "execution_count": 80,
   "metadata": {},
   "outputs": [
    {
     "name": "stdout",
     "output_type": "stream",
     "text": [
      "True\n"
     ]
    }
   ],
   "source": [
    "x = 'Dicoding'\n",
    "print(x.isalnum())"
   ]
  },
  {
   "cell_type": "code",
   "execution_count": 83,
   "metadata": {},
   "outputs": [
    {
     "name": "stdout",
     "output_type": "stream",
     "text": [
      "True\n"
     ]
    }
   ],
   "source": [
    "x = '12'\n",
    "print(x.isdecimal())"
   ]
  },
  {
   "cell_type": "code",
   "execution_count": 84,
   "metadata": {},
   "outputs": [
    {
     "name": "stdout",
     "output_type": "stream",
     "text": [
      "True\n"
     ]
    }
   ],
   "source": [
    "x = ' '\n",
    "print(x.isspace())"
   ]
  },
  {
   "cell_type": "code",
   "execution_count": 85,
   "metadata": {},
   "outputs": [
    {
     "name": "stdout",
     "output_type": "stream",
     "text": [
      "True\n"
     ]
    }
   ],
   "source": [
    "x = 'Dicoding Indonesia'\n",
    "print(x.istitle())"
   ]
  },
  {
   "cell_type": "code",
   "execution_count": 102,
   "metadata": {},
   "outputs": [
    {
     "name": "stdout",
     "output_type": "stream",
     "text": [
      "Masukkan nama Anda:\n",
      "34\n",
      "Masukkan nama Anda dengan benar.\n",
      "Masukkan nama Anda:\n",
      "ds\n",
      "Halo ds\n"
     ]
    }
   ],
   "source": [
    "while True:\n",
    "    print('Masukkan nama Anda:')\n",
    "    name = input()\n",
    "    if name.isalpha():\n",
    "        print(\"Halo\", name)\n",
    "        break\n",
    "    print('Masukkan nama Anda dengan benar.')"
   ]
  },
  {
   "cell_type": "code",
   "execution_count": 110,
   "metadata": {},
   "outputs": [
    {
     "ename": "SyntaxError",
     "evalue": "invalid syntax (<ipython-input-110-82a3b1b73922>, line 5)",
     "output_type": "error",
     "traceback": [
      "\u001b[1;36m  File \u001b[1;32m\"<ipython-input-110-82a3b1b73922>\"\u001b[1;36m, line \u001b[1;32m5\u001b[0m\n\u001b[1;33m    nilai < 75:\u001b[0m\n\u001b[1;37m               ^\u001b[0m\n\u001b[1;31mSyntaxError\u001b[0m\u001b[1;31m:\u001b[0m invalid syntax\n"
     ]
    }
   ],
   "source": [
    "while true:\n",
    "    print('masukkan nilai anda : ')\n",
    "    nilai = input()\n",
    "    if nilai.isdecimal():\n",
    "        nilai < 75:\n",
    "            print(\"Remedial\")\n",
    "    else:\n",
    "        while nilai >= 75:\n",
    "            print(\"Selamat anda lulus\")\n",
    "            break\n",
    "        print(\"Masukkan Hanya Angka\")"
   ]
  },
  {
   "cell_type": "code",
   "execution_count": 106,
   "metadata": {},
   "outputs": [
    {
     "name": "stdout",
     "output_type": "stream",
     "text": [
      "Masukkan nilai Anda:\n",
      "df\n",
      "Masukkan nilai Anda dengan benar.\n",
      "Masukkan nilai Anda:\n",
      "54\n",
      "nilaimu :  54\n"
     ]
    }
   ],
   "source": [
    "while True:\n",
    "    print('Masukkan nilai Anda:')\n",
    "    nilai = input()\n",
    "    if nilai.isdecimal():\n",
    "        print(\"nilaimu : \", nilai)\n",
    "        break\n",
    "    print('Masukkan nilai Anda dengan benar.')"
   ]
  },
  {
   "cell_type": "code",
   "execution_count": 113,
   "metadata": {},
   "outputs": [
    {
     "name": "stdout",
     "output_type": "stream",
     "text": [
      "Total belanja: Rp 20000\n"
     ]
    },
    {
     "ename": "TypeError",
     "evalue": "'>' not supported between instances of 'str' and 'int'",
     "output_type": "error",
     "traceback": [
      "\u001b[1;31m---------------------------------------------------------------------------\u001b[0m",
      "\u001b[1;31mTypeError\u001b[0m                                 Traceback (most recent call last)",
      "\u001b[1;32m<ipython-input-113-5a6c2ee41479>\u001b[0m in \u001b[0;36m<module>\u001b[1;34m\u001b[0m\n\u001b[0;32m      9\u001b[0m \u001b[1;33m\u001b[0m\u001b[0m\n\u001b[0;32m     10\u001b[0m \u001b[1;31m# jika dia belanja di atas 100rb maka berikan bonus dan diskon\u001b[0m\u001b[1;33m\u001b[0m\u001b[1;33m\u001b[0m\u001b[1;33m\u001b[0m\u001b[0m\n\u001b[1;32m---> 11\u001b[1;33m \u001b[1;32mif\u001b[0m \u001b[0mtotal_belanja\u001b[0m \u001b[1;33m>\u001b[0m \u001b[1;36m100000\u001b[0m\u001b[1;33m:\u001b[0m\u001b[1;33m\u001b[0m\u001b[1;33m\u001b[0m\u001b[0m\n\u001b[0m\u001b[0;32m     12\u001b[0m     \u001b[0mprint\u001b[0m\u001b[1;33m(\u001b[0m\u001b[1;34m\"Kamu mendapatkan bonus minuman dingin\"\u001b[0m\u001b[1;33m)\u001b[0m\u001b[1;33m\u001b[0m\u001b[1;33m\u001b[0m\u001b[0m\n\u001b[0;32m     13\u001b[0m     \u001b[0mprint\u001b[0m\u001b[1;33m(\u001b[0m\u001b[1;34m\"dan diskon 5%\"\u001b[0m\u001b[1;33m)\u001b[0m\u001b[1;33m\u001b[0m\u001b[1;33m\u001b[0m\u001b[0m\n",
      "\u001b[1;31mTypeError\u001b[0m: '>' not supported between instances of 'str' and 'int'"
     ]
    }
   ],
   "source": [
    "# program untuk mengecek bonus dan diskon\n",
    "# file: bonus.py\n",
    "\n",
    "total_belanja = input(\"Total belanja: Rp \")\n",
    "\n",
    "# jumlah yang harus dibayar adalah berapa total belanjaannya\n",
    "# tapi kalau dapat diskon akan berkurang\n",
    "bayar = total_belanja\n",
    "\n",
    "# jika dia belanja di atas 100rb maka berikan bonus dan diskon\n",
    "if total_belanja > 100000:\n",
    "    print(\"Kamu mendapatkan bonus minuman dingin\")\n",
    "    print(\"dan diskon 5%\")\n",
    "\n",
    "    # hitung diskonnya\n",
    "    diskon = total_belanja * 5/100 #5%\n",
    "    bayar = total_belanja - diskon\n",
    "\n",
    "\n",
    "# cetak struk\n",
    "print(\"Total yang harus dibayar: Rp %s\" % bayar)\n",
    "print(\"Terima kasih sudah berbelanja\")\n",
    "print(\"Datang lagi yaa...\")"
   ]
  },
  {
   "cell_type": "code",
   "execution_count": 115,
   "metadata": {},
   "outputs": [
    {
     "name": "stdout",
     "output_type": "stream",
     "text": [
      "Inputkan nilaimu: 89\n"
     ]
    },
    {
     "ename": "TypeError",
     "evalue": "'>=' not supported between instances of 'str' and 'int'",
     "output_type": "error",
     "traceback": [
      "\u001b[1;31m---------------------------------------------------------------------------\u001b[0m",
      "\u001b[1;31mTypeError\u001b[0m                                 Traceback (most recent call last)",
      "\u001b[1;32m<ipython-input-115-c3597881451d>\u001b[0m in \u001b[0;36m<module>\u001b[1;34m\u001b[0m\n\u001b[0;32m      2\u001b[0m \u001b[0mnilai\u001b[0m \u001b[1;33m=\u001b[0m \u001b[0minput\u001b[0m\u001b[1;33m(\u001b[0m\u001b[1;34m\"Inputkan nilaimu: \"\u001b[0m\u001b[1;33m)\u001b[0m\u001b[1;33m\u001b[0m\u001b[1;33m\u001b[0m\u001b[0m\n\u001b[0;32m      3\u001b[0m \u001b[1;33m\u001b[0m\u001b[0m\n\u001b[1;32m----> 4\u001b[1;33m \u001b[1;32mif\u001b[0m \u001b[0mnilai\u001b[0m \u001b[1;33m>=\u001b[0m \u001b[1;36m90\u001b[0m\u001b[1;33m:\u001b[0m\u001b[1;33m\u001b[0m\u001b[1;33m\u001b[0m\u001b[0m\n\u001b[0m\u001b[0;32m      5\u001b[0m    \u001b[0mgrade\u001b[0m \u001b[1;33m=\u001b[0m \u001b[1;34m\"A\"\u001b[0m\u001b[1;33m\u001b[0m\u001b[1;33m\u001b[0m\u001b[0m\n\u001b[0;32m      6\u001b[0m \u001b[1;32melif\u001b[0m \u001b[0mnilai\u001b[0m \u001b[1;33m>=\u001b[0m \u001b[1;36m80\u001b[0m\u001b[1;33m:\u001b[0m\u001b[1;33m\u001b[0m\u001b[1;33m\u001b[0m\u001b[0m\n",
      "\u001b[1;31mTypeError\u001b[0m: '>=' not supported between instances of 'str' and 'int'"
     ]
    }
   ],
   "source": [
    "#file grade_nilai.py\n",
    "nilai = input(\"Inputkan nilaimu: \")\n",
    "grade = [\"A\", \"\"]\n",
    "if nilai >= 90:\n",
    "   grade = \"A\"\n",
    "elif nilai >= 80:\n",
    "   grade = \"B+\"\n",
    "elif nilai >= 70:\n",
    "   grade = \"B\"\n",
    "elif nilai >= 60:\n",
    "   grade = \"C+\"\n",
    "elif nilai >= 50:\n",
    "   grade = \"C\"\n",
    "elif nilai >= 40:\n",
    "   grade = \"D\"\n",
    "else:\n",
    "   grade = \"E\"\n",
    "\n",
    "print(\"Grade: %s\" % grade)"
   ]
  },
  {
   "cell_type": "code",
   "execution_count": 116,
   "metadata": {},
   "outputs": [
    {
     "name": "stdout",
     "output_type": "stream",
     "text": [
      "00005\n",
      "00300\n",
      "-0.45\n",
      "-000.45\n"
     ]
    }
   ],
   "source": [
    "# Contoh 1: Penggunaan zfill 5 pada angka satuan\n",
    "angka = 5\n",
    "print (str(angka).zfill(5));\n",
    "# Contoh 2: Penggunaan zfill 5 pada angka ratusan\n",
    "angka = 300\n",
    "print (str(angka).zfill(5));\n",
    "# Contoh 3: Penggunaan zfill 5 pada angka desimal negatif (memiliki koma)\n",
    "angka = -0.45\n",
    "print (str(angka).zfill(5));\n",
    "# Contoh 4: Penggunaan zfill 7 pada angka desimal negatif (memiliki koma)\n",
    "angka = -0.45\n",
    "print (str(angka).zfill(7));"
   ]
  },
  {
   "cell_type": "code",
   "execution_count": 119,
   "metadata": {},
   "outputs": [
    {
     "name": "stdout",
     "output_type": "stream",
     "text": [
      "05\n"
     ]
    }
   ],
   "source": [
    "x = 5\n",
    "print(str(x).zfill(2))"
   ]
  },
  {
   "cell_type": "code",
   "execution_count": 120,
   "metadata": {},
   "outputs": [
    {
     "name": "stdout",
     "output_type": "stream",
     "text": [
      "-0.45\n"
     ]
    }
   ],
   "source": [
    "# Contoh 3: Penggunaan zfill 5 pada angka desimal negatif (memiliki koma)\n",
    "angka = -0.45\n",
    "print (str(angka).zfill(5));"
   ]
  },
  {
   "cell_type": "code",
   "execution_count": 121,
   "metadata": {},
   "outputs": [
    {
     "name": "stdout",
     "output_type": "stream",
     "text": [
      "00aku\n",
      "0kamu\n",
      "dirinya\n"
     ]
    }
   ],
   "source": [
    "# Contoh 1\n",
    "kata = 'aku'\n",
    "print (kata.zfill(5));\n",
    "# Contoh 2\n",
    "kata = 'kamu'\n",
    "print (kata.zfill(5));\n",
    "# Contoh 3\n",
    "kata = 'dirinya'\n",
    "print (kata.zfill(5));"
   ]
  },
  {
   "cell_type": "code",
   "execution_count": 122,
   "metadata": {},
   "outputs": [
    {
     "data": {
      "text/plain": [
       "'                fedy'"
      ]
     },
     "execution_count": 122,
     "metadata": {},
     "output_type": "execute_result"
    }
   ],
   "source": [
    "'fedy'.rjust(20)"
   ]
  },
  {
   "cell_type": "code",
   "execution_count": 123,
   "metadata": {},
   "outputs": [
    {
     "data": {
      "text/plain": [
       "'!!!!!!!!!!!!!!!!fedy'"
      ]
     },
     "execution_count": 123,
     "metadata": {},
     "output_type": "execute_result"
    }
   ],
   "source": [
    "'fedy'.rjust(20, '!')"
   ]
  },
  {
   "cell_type": "code",
   "execution_count": 124,
   "metadata": {},
   "outputs": [
    {
     "data": {
      "text/plain": [
       "'!!!!!!!!fedy!!!!!!!!'"
      ]
     },
     "execution_count": 124,
     "metadata": {},
     "output_type": "execute_result"
    }
   ],
   "source": [
    "'fedy'.center(20, '!')"
   ]
  },
  {
   "cell_type": "code",
   "execution_count": 129,
   "metadata": {},
   "outputs": [
    {
     "name": "stdout",
     "output_type": "stream",
     "text": [
      "Jum'at\n"
     ]
    }
   ],
   "source": [
    "x = \"Jum'at\"\n",
    "print(x)"
   ]
  },
  {
   "cell_type": "code",
   "execution_count": 130,
   "metadata": {},
   "outputs": [
    {
     "name": "stdout",
     "output_type": "stream",
     "text": [
      "Jum'at\n"
     ]
    }
   ],
   "source": [
    "x = 'Jum\\'at'\n",
    "print(x)"
   ]
  },
  {
   "cell_type": "code",
   "execution_count": 131,
   "metadata": {},
   "outputs": [
    {
     "name": "stdout",
     "output_type": "stream",
     "text": [
      "Halo!\n",
      "Kapan terakhir kali kita bertemu?\n",
      "Kita bertemu hari Jum'at yang lalu.\n"
     ]
    }
   ],
   "source": [
    "print(\"Halo!\\nKapan terakhir kali kita bertemu?\\nKita bertemu hari Jum\\'at yang lalu.\")"
   ]
  },
  {
   "cell_type": "code",
   "execution_count": 132,
   "metadata": {},
   "outputs": [
    {
     "name": "stdout",
     "output_type": "stream",
     "text": [
      "Halo! \n",
      "Kapan kamu akan kesini?\\ saya fedy, masih ingat kan?\n"
     ]
    }
   ],
   "source": [
    "x = \"Halo! \\nKapan kamu akan kesini?\\\\ saya fedy, masih ingat kan?\"\n",
    "print(x)"
   ]
  },
  {
   "cell_type": "code",
   "execution_count": 133,
   "metadata": {},
   "outputs": [
    {
     "name": "stdout",
     "output_type": "stream",
     "text": [
      "Halo!\n",
      "Kapan terakhir kali kita bertemu?\n",
      "Kita bertemu hari Jum’at yang lalu.\n"
     ]
    }
   ],
   "source": [
    "multi_line = \"\"\"Halo!\n",
    "Kapan terakhir kali kita bertemu?\n",
    "Kita bertemu hari Jum’at yang lalu.\"\"\"\n",
    "print(multi_line)"
   ]
  },
  {
   "cell_type": "code",
   "execution_count": 134,
   "metadata": {},
   "outputs": [
    {
     "name": "stdout",
     "output_type": "stream",
     "text": [
      "Dicoding\\tIndonesia\n"
     ]
    }
   ],
   "source": [
    "print(r'Dicoding\\tIndonesia')"
   ]
  },
  {
   "cell_type": "code",
   "execution_count": 135,
   "metadata": {},
   "outputs": [
    {
     "name": "stdout",
     "output_type": "stream",
     "text": [
      "Dicoding\tIndonesia\n"
     ]
    }
   ],
   "source": [
    "print('Dicoding\\tIndonesia')"
   ]
  },
  {
   "cell_type": "code",
   "execution_count": 136,
   "metadata": {},
   "outputs": [
    {
     "ename": "NameError",
     "evalue": "name 'rx' is not defined",
     "output_type": "error",
     "traceback": [
      "\u001b[1;31m---------------------------------------------------------------------------\u001b[0m",
      "\u001b[1;31mNameError\u001b[0m                                 Traceback (most recent call last)",
      "\u001b[1;32m<ipython-input-136-f5de53ae5e29>\u001b[0m in \u001b[0;36m<module>\u001b[1;34m\u001b[0m\n\u001b[0;32m      1\u001b[0m \u001b[0mx\u001b[0m \u001b[1;33m=\u001b[0m \u001b[1;34m\"Halo! \\nKapan kamu akan kesini?\\\\ saya fedy, masih ingat kan?\"\u001b[0m\u001b[1;33m\u001b[0m\u001b[1;33m\u001b[0m\u001b[0m\n\u001b[1;32m----> 2\u001b[1;33m \u001b[0mprint\u001b[0m\u001b[1;33m(\u001b[0m\u001b[0mrx\u001b[0m\u001b[1;33m)\u001b[0m\u001b[1;33m\u001b[0m\u001b[1;33m\u001b[0m\u001b[0m\n\u001b[0m",
      "\u001b[1;31mNameError\u001b[0m: name 'rx' is not defined"
     ]
    }
   ],
   "source": [
    "x = \"Halo! \\nKapan kamu akan kesini?\\\\ saya fedy, masih ingat kan?\"\n",
    "print(rx)"
   ]
  },
  {
   "cell_type": "code",
   "execution_count": 1,
   "metadata": {},
   "outputs": [
    {
     "ename": "SyntaxError",
     "evalue": "EOL while scanning string literal (<ipython-input-1-74bc78fcb6b0>, line 2)",
     "output_type": "error",
     "traceback": [
      "\u001b[1;36m  File \u001b[1;32m\"<ipython-input-1-74bc78fcb6b0>\"\u001b[1;36m, line \u001b[1;32m2\u001b[0m\n\u001b[1;33m    print(r'(x))\u001b[0m\n\u001b[1;37m                ^\u001b[0m\n\u001b[1;31mSyntaxError\u001b[0m\u001b[1;31m:\u001b[0m EOL while scanning string literal\n"
     ]
    }
   ],
   "source": [
    "x = \"Halo! \\nKapan kamu akan kesini?\\\\ saya fedy, masih ingat kan?\"\n",
    "print(r(x))"
   ]
  },
  {
   "cell_type": "code",
   "execution_count": 140,
   "metadata": {},
   "outputs": [
    {
     "name": "stdout",
     "output_type": "stream",
     "text": [
      "Halo! \\nKapan kamu akan kesini?\\\\ saya fedy, masih ingat kan?\n"
     ]
    }
   ],
   "source": [
    "x = r\"Halo! \\nKapan kamu akan kesini?\\\\ saya fedy, masih ingat kan?\"\n",
    "print(x)"
   ]
  },
  {
   "cell_type": "code",
   "execution_count": 141,
   "metadata": {},
   "outputs": [
    {
     "name": "stdout",
     "output_type": "stream",
     "text": [
      "[1, 3, 3, 5, 5, 5, 7, 7, 9]\n",
      "9\n",
      "{1, 3, 5, 7, 9}\n",
      "5\n",
      "Belajar Python\n",
      "14\n"
     ]
    }
   ],
   "source": [
    "contoh_list = [1, 3, 3, 5, 5, 5, 7, 7, 9]\n",
    "print(contoh_list)\n",
    "print(len(contoh_list))\n",
    " \n",
    "contoh_set = set([1, 3, 3, 5, 5, 5, 7, 7, 9])\n",
    "print(contoh_set)\n",
    "print(len(contoh_set))\n",
    " \n",
    "contoh_string = \"Belajar Python\"\n",
    "print(contoh_string)\n",
    "print(len(contoh_string))"
   ]
  },
  {
   "cell_type": "code",
   "execution_count": 142,
   "metadata": {},
   "outputs": [
    {
     "name": "stdout",
     "output_type": "stream",
     "text": [
      "5\n",
      "96\n"
     ]
    }
   ],
   "source": [
    "angka = [13, 7, 24, 5, 96, 84, 71, 11, 38]\n",
    "print(min(angka))\n",
    "print(max(angka))"
   ]
  },
  {
   "cell_type": "code",
   "execution_count": 147,
   "metadata": {},
   "outputs": [
    {
     "name": "stdout",
     "output_type": "stream",
     "text": [
      "[1, 0.987342987293, 73192, 0.217, 76]\n",
      "0.217\n",
      "73192\n",
      "1\n"
     ]
    }
   ],
   "source": [
    "x = [1, 0.987342987293, 73192, 0.217, 76]\n",
    "print(x)\n",
    "print(min(x))\n",
    "print(max(x))\n",
    "print(x.count(1))"
   ]
  },
  {
   "cell_type": "code",
   "execution_count": 155,
   "metadata": {},
   "outputs": [
    {
     "name": "stdout",
     "output_type": "stream",
     "text": [
      "7\n",
      "nama saya fedy rahmatullah nama saya fedy rahmatullah \n"
     ]
    }
   ],
   "source": [
    "x = 'nama saya fedy rahmatullah '\n",
    "y = 'a'\n",
    "print(x.count(y))\n",
    "\n",
    "replikasi = x * 2\n",
    "print(replikasi)"
   ]
  },
  {
   "cell_type": "code",
   "execution_count": 158,
   "metadata": {},
   "outputs": [
    {
     "name": "stdout",
     "output_type": "stream",
     "text": [
      "12\n"
     ]
    }
   ],
   "source": [
    "learn = ['P', 'Y', 'T', 'H', 'O', 'N']\n",
    "replikasi = learn * 2\n",
    "print(replikasi)"
   ]
  },
  {
   "cell_type": "code",
   "execution_count": 157,
   "metadata": {},
   "outputs": [
    {
     "name": "stdout",
     "output_type": "stream",
     "text": [
      "7\n",
      "[7, 7, 7, 7, 7, 7, 7]\n"
     ]
    }
   ],
   "source": [
    "tujuh = [7]*7\n",
    "print(len(tujuh))\n",
    "print(tujuh)"
   ]
  },
  {
   "cell_type": "code",
   "execution_count": 162,
   "metadata": {},
   "outputs": [
    {
     "name": "stdout",
     "output_type": "stream",
     "text": [
      "0\n",
      "1\n",
      "2\n",
      "3\n",
      "4\n"
     ]
    }
   ],
   "source": [
    "for i in range(5):\n",
    "    print(i)"
   ]
  },
  {
   "cell_type": "code",
   "execution_count": 163,
   "metadata": {},
   "outputs": [
    {
     "name": "stdout",
     "output_type": "stream",
     "text": [
      "5\n",
      "6\n",
      "7\n"
     ]
    }
   ],
   "source": [
    "for y in range(5, 8):\n",
    "    print(y)"
   ]
  },
  {
   "cell_type": "code",
   "execution_count": 165,
   "metadata": {},
   "outputs": [
    {
     "ename": "NameError",
     "evalue": "name '_for_' is not defined",
     "output_type": "error",
     "traceback": [
      "\u001b[1;31m---------------------------------------------------------------------------\u001b[0m",
      "\u001b[1;31mNameError\u001b[0m                                 Traceback (most recent call last)",
      "\u001b[1;32m<ipython-input-165-dbf79236dd7d>\u001b[0m in \u001b[0;36m<module>\u001b[1;34m\u001b[0m\n\u001b[1;32m----> 1\u001b[1;33m \u001b[0mprint\u001b[0m\u001b[1;33m(\u001b[0m\u001b[0m_for_\u001b[0m \u001b[1;32min\u001b[0m \u001b[0mrange\u001b[0m\u001b[1;33m(\u001b[0m\u001b[1;36m5\u001b[0m\u001b[1;33m,\u001b[0m \u001b[1;36m8\u001b[0m\u001b[1;33m,\u001b[0m \u001b[1;36m2\u001b[0m\u001b[1;33m)\u001b[0m\u001b[1;33m)\u001b[0m\u001b[1;33m\u001b[0m\u001b[1;33m\u001b[0m\u001b[0m\n\u001b[0m",
      "\u001b[1;31mNameError\u001b[0m: name '_for_' is not defined"
     ]
    }
   ],
   "source": [
    "print(_for_ in range(5, 8, 2))"
   ]
  },
  {
   "cell_type": "code",
   "execution_count": 166,
   "metadata": {},
   "outputs": [
    {
     "name": "stdout",
     "output_type": "stream",
     "text": [
      "5\n",
      "7\n"
     ]
    }
   ],
   "source": [
    "for y in range(5, 8, 2):\n",
    "    print(y)"
   ]
  },
  {
   "cell_type": "code",
   "execution_count": 167,
   "metadata": {},
   "outputs": [
    {
     "name": "stdout",
     "output_type": "stream",
     "text": [
      "[0, 5, 10, 15]\n"
     ]
    }
   ],
   "source": [
    "print([_ for _ in range(0,20,5)])"
   ]
  },
  {
   "cell_type": "code",
   "execution_count": 170,
   "metadata": {},
   "outputs": [
    {
     "name": "stdout",
     "output_type": "stream",
     "text": [
      "[0, 2, 4, 6, 8, 10, 12, 14, 16, 18]\n"
     ]
    }
   ],
   "source": [
    "print([_ for _ in range(0, 20, 2)])"
   ]
  },
  {
   "cell_type": "code",
   "execution_count": 171,
   "metadata": {},
   "outputs": [
    {
     "name": "stdout",
     "output_type": "stream",
     "text": [
      "True\n",
      "False\n",
      "False\n",
      "True\n"
     ]
    }
   ],
   "source": [
    "kalimat = \"Belajar Python di Dicoding sangat menyenangkan\"\n",
    "print('Dicoding' in kalimat)\n",
    "print('tidak' in kalimat)\n",
    "print('Dicoding' not in kalimat)\n",
    "print('tidak' not in kalimat)"
   ]
  },
  {
   "cell_type": "code",
   "execution_count": 172,
   "metadata": {},
   "outputs": [
    {
     "name": "stdout",
     "output_type": "stream",
     "text": [
      "False\n",
      "True\n",
      "True\n",
      "False\n"
     ]
    }
   ],
   "source": [
    "x = \"nama saya fedy rahmatullah dan saya dari jember\"\n",
    "print('Dicoding' in x)\n",
    "print('fedy' in x)\n",
    "print('Dicoding' not in x)\n",
    "print('fedy' not in x)"
   ]
  },
  {
   "cell_type": "code",
   "execution_count": 174,
   "metadata": {},
   "outputs": [],
   "source": [
    "data = ['shirt', 'white', 'L']\n",
    "apparel = data[0]\n",
    "color = data[1]\n",
    "size = data[2]\n",
    "\n",
    "\n",
    "data = ['shirt', 'white', 'L'] # From List\n",
    "apparel, color, size = data\n",
    "data = ('shirt', 'white', 'L')  # From Tuple\n",
    "apparel, color, size = data"
   ]
  },
  {
   "cell_type": "code",
   "execution_count": 175,
   "metadata": {},
   "outputs": [
    {
     "name": "stdout",
     "output_type": "stream",
     "text": [
      "white\n",
      "shirt\n"
     ]
    }
   ],
   "source": [
    "apparel, color = 'shirt', 'white'\n",
    "apparel, color = color, apparel\n",
    "print(apparel)\n",
    "print(color)"
   ]
  },
  {
   "cell_type": "code",
   "execution_count": 176,
   "metadata": {},
   "outputs": [
    {
     "name": "stdout",
     "output_type": "stream",
     "text": [
      "hitam\n",
      "erigo\n"
     ]
    }
   ],
   "source": [
    "baju, warna = 'erigo', 'hitam'\n",
    "baju, warna = warna, baju\n",
    "print(baju)\n",
    "print(warna)"
   ]
  },
  {
   "cell_type": "code",
   "execution_count": 181,
   "metadata": {},
   "outputs": [
    {
     "name": "stdout",
     "output_type": "stream",
     "text": [
      "['erigo', 'nike', 'puma']\n",
      "['hitam', 'putih', 'grey']\n"
     ]
    }
   ],
   "source": [
    "baju, warna = ['erigo', 'nike', 'puma'], ['hitam', 'putih', 'grey']\n",
    "print(baju)\n",
    "print(warna)"
   ]
  },
  {
   "cell_type": "code",
   "execution_count": 182,
   "metadata": {},
   "outputs": [
    {
     "name": "stdout",
     "output_type": "stream",
     "text": [
      "[5, 100, 200, 500, 1000]\n"
     ]
    }
   ],
   "source": [
    "angka = [100, 1000, 500, 200, 5]\n",
    "angka.sort()\n",
    "print(angka)"
   ]
  },
  {
   "cell_type": "code",
   "execution_count": 183,
   "metadata": {},
   "outputs": [
    {
     "name": "stdout",
     "output_type": "stream",
     "text": [
      "['helikopter', 'mobil', 'motor', 'pesawat']\n"
     ]
    }
   ],
   "source": [
    "kendaraan = ['motor', 'mobil', 'helikopter', 'pesawat']\n",
    "kendaraan.sort()\n",
    "print(kendaraan)"
   ]
  },
  {
   "cell_type": "code",
   "execution_count": 186,
   "metadata": {},
   "outputs": [
    {
     "name": "stdout",
     "output_type": "stream",
     "text": [
      "4\n"
     ]
    }
   ],
   "source": [
    "kendaraan = ['motor', 'mobil', 'helikopter', 'pesawat']\n",
    "\n",
    "print(len(kendaraan))"
   ]
  },
  {
   "cell_type": "code",
   "execution_count": 188,
   "metadata": {},
   "outputs": [
    {
     "name": "stdout",
     "output_type": "stream",
     "text": [
      "['pesawat', 'motor', 'mobil', 'helikopter']\n"
     ]
    }
   ],
   "source": [
    "kendaraan = ['motor', 'mobil', 'helikopter', 'pesawat']\n",
    "kendaraan.sort(reverse=True)\n",
    "print(kendaraan)"
   ]
  },
  {
   "cell_type": "code",
   "execution_count": 189,
   "metadata": {},
   "outputs": [
    {
     "ename": "TypeError",
     "evalue": "'<' not supported between instances of 'int' and 'str'",
     "output_type": "error",
     "traceback": [
      "\u001b[1;31m---------------------------------------------------------------------------\u001b[0m",
      "\u001b[1;31mTypeError\u001b[0m                                 Traceback (most recent call last)",
      "\u001b[1;32m<ipython-input-189-6165e3752e24>\u001b[0m in \u001b[0;36m<module>\u001b[1;34m\u001b[0m\n\u001b[0;32m      1\u001b[0m \u001b[0murutan\u001b[0m \u001b[1;33m=\u001b[0m \u001b[1;33m[\u001b[0m\u001b[1;34m'Dicoding'\u001b[0m\u001b[1;33m,\u001b[0m \u001b[1;36m1\u001b[0m\u001b[1;33m,\u001b[0m \u001b[1;36m2\u001b[0m\u001b[1;33m,\u001b[0m \u001b[1;34m'Indonesia'\u001b[0m\u001b[1;33m,\u001b[0m \u001b[1;36m3\u001b[0m\u001b[1;33m]\u001b[0m\u001b[1;33m\u001b[0m\u001b[1;33m\u001b[0m\u001b[0m\n\u001b[1;32m----> 2\u001b[1;33m \u001b[0murutan\u001b[0m\u001b[1;33m.\u001b[0m\u001b[0msort\u001b[0m\u001b[1;33m(\u001b[0m\u001b[1;33m)\u001b[0m\u001b[1;33m\u001b[0m\u001b[1;33m\u001b[0m\u001b[0m\n\u001b[0m\u001b[0;32m      3\u001b[0m \u001b[0mprint\u001b[0m\u001b[1;33m(\u001b[0m\u001b[0murutan\u001b[0m\u001b[1;33m)\u001b[0m\u001b[1;33m\u001b[0m\u001b[1;33m\u001b[0m\u001b[0m\n",
      "\u001b[1;31mTypeError\u001b[0m: '<' not supported between instances of 'int' and 'str'"
     ]
    }
   ],
   "source": [
    "urutan = ['Dicoding', 1, 2, 'Indonesia', 3]\n",
    "urutan.sort()\n",
    "print(urutan)"
   ]
  },
  {
   "cell_type": "code",
   "execution_count": 190,
   "metadata": {},
   "outputs": [
    {
     "name": "stdout",
     "output_type": "stream",
     "text": [
      "['Pesawat', 'helikopter', 'mobil', 'motor']\n"
     ]
    }
   ],
   "source": [
    "kendaraan = ['motor', 'mobil', 'helikopter', 'Pesawat']\n",
    "kendaraan.sort()\n",
    "print(kendaraan)"
   ]
  },
  {
   "cell_type": "code",
   "execution_count": 193,
   "metadata": {},
   "outputs": [
    {
     "name": "stdout",
     "output_type": "stream",
     "text": [
      "['helikopter', 'Mobil', 'Motor', 'pesawat']\n"
     ]
    }
   ],
   "source": [
    "kendaraan = ['Motor', 'Mobil', 'helikopter', 'pesawat']\n",
    "kendaraan.sort(key=str.lower)\n",
    "print(kendaraan)"
   ]
  },
  {
   "cell_type": "code",
   "execution_count": 194,
   "metadata": {},
   "outputs": [
    {
     "data": {
      "text/plain": [
       "2"
      ]
     },
     "execution_count": 194,
     "metadata": {},
     "output_type": "execute_result"
    }
   ],
   "source": [
    "14 % 3"
   ]
  },
  {
   "cell_type": "code",
   "execution_count": 1,
   "metadata": {},
   "outputs": [
    {
     "name": "stdout",
     "output_type": "stream",
     "text": [
      "ab\n"
     ]
    }
   ],
   "source": [
    "x = 'a' + 'b'\n",
    "print(x)"
   ]
  },
  {
   "cell_type": "code",
   "execution_count": 3,
   "metadata": {},
   "outputs": [
    {
     "name": "stdout",
     "output_type": "stream",
     "text": [
      "abc2baa\n"
     ]
    }
   ],
   "source": [
    "x = 'a' + 'b' + 'c'+ '2b' + 'aa'\n",
    "print(x)"
   ]
  },
  {
   "cell_type": "code",
   "execution_count": 4,
   "metadata": {},
   "outputs": [
    {
     "data": {
      "text/plain": [
       "'lalala'"
      ]
     },
     "execution_count": 4,
     "metadata": {},
     "output_type": "execute_result"
    }
   ],
   "source": [
    "'la' * 3"
   ]
  },
  {
   "cell_type": "code",
   "execution_count": 5,
   "metadata": {},
   "outputs": [
    {
     "data": {
      "text/plain": [
       "8"
      ]
     },
     "execution_count": 5,
     "metadata": {},
     "output_type": "execute_result"
    }
   ],
   "source": [
    "2 << 2"
   ]
  },
  {
   "cell_type": "code",
   "execution_count": 27,
   "metadata": {},
   "outputs": [
    {
     "ename": "SyntaxError",
     "evalue": "invalid syntax (<ipython-input-27-94035a514881>, line 6)",
     "output_type": "error",
     "traceback": [
      "\u001b[1;36m  File \u001b[1;32m\"<ipython-input-27-94035a514881>\"\u001b[1;36m, line \u001b[1;32m6\u001b[0m\n\u001b[1;33m    def kurang(self, _i)\u001b[0m\n\u001b[1;37m                        ^\u001b[0m\n\u001b[1;31mSyntaxError\u001b[0m\u001b[1;31m:\u001b[0m invalid syntax\n"
     ]
    }
   ],
   "source": [
    "class Kalkulator:\n",
    "    \"\"\"kalkulator tambah kurang\"\"\"\n",
    "    def __init__(self, _i = 0):\n",
    "        self.i = _i\n",
    "    def tambah(self, _i): return self.i+_i\n",
    "    def kurang(self, _i)\n",
    "    return self.i-_i\n",
    "    \n",
    "    pycodestyle kal.py\n",
    "kal.py:5:5: E301 expected 1 blank line, found 0\n",
    "kal.py:7:5: E112 expected an indented block"
   ]
  },
  {
   "cell_type": "code",
   "execution_count": 28,
   "metadata": {},
   "outputs": [],
   "source": [
    "\"\"\"kalkulator\"\"\"\n",
    " \n",
    "class Kalkulator:\n",
    "    \"\"\"kalkulator tambah kurang\"\"\"\n",
    "    def __init__(self, _i):\n",
    "        self.i = _i\n",
    " \n",
    "    def tambah(self, _i): return self.i + _i\n",
    " \n",
    "    def kurang(self, _i):\n",
    "        return self.i - _i"
   ]
  },
  {
   "cell_type": "code",
   "execution_count": 31,
   "metadata": {},
   "outputs": [
    {
     "ename": "TypeError",
     "evalue": "'tuple' object is not callable",
     "output_type": "error",
     "traceback": [
      "\u001b[1;31m---------------------------------------------------------------------------\u001b[0m",
      "\u001b[1;31mTypeError\u001b[0m                                 Traceback (most recent call last)",
      "\u001b[1;32m<ipython-input-31-2f077cab5355>\u001b[0m in \u001b[0;36m<module>\u001b[1;34m\u001b[0m\n\u001b[0;32m     10\u001b[0m     \u001b[1;32mdef\u001b[0m \u001b[0mkurang\u001b[0m\u001b[1;33m(\u001b[0m\u001b[0mself\u001b[0m\u001b[1;33m,\u001b[0m \u001b[0m_i\u001b[0m\u001b[1;33m)\u001b[0m\u001b[1;33m:\u001b[0m\u001b[1;33m\u001b[0m\u001b[1;33m\u001b[0m\u001b[0m\n\u001b[0;32m     11\u001b[0m         \u001b[1;32mreturn\u001b[0m \u001b[0mself\u001b[0m\u001b[1;33m.\u001b[0m\u001b[0mi\u001b[0m \u001b[1;33m-\u001b[0m \u001b[0m_i\u001b[0m\u001b[1;33m\u001b[0m\u001b[1;33m\u001b[0m\u001b[0m\n\u001b[1;32m---> 12\u001b[1;33m \u001b[0mprint\u001b[0m\u001b[1;33m(\u001b[0m\u001b[0mKalkulator\u001b[0m\u001b[1;33m)\u001b[0m\u001b[1;33m\u001b[0m\u001b[1;33m\u001b[0m\u001b[0m\n\u001b[0m",
      "\u001b[1;31mTypeError\u001b[0m: 'tuple' object is not callable"
     ]
    }
   ],
   "source": []
  },
  {
   "cell_type": "code",
   "execution_count": 32,
   "metadata": {},
   "outputs": [
    {
     "ename": "NameError",
     "evalue": "name 'AnyStr' is not defined",
     "output_type": "error",
     "traceback": [
      "\u001b[1;31m---------------------------------------------------------------------------\u001b[0m",
      "\u001b[1;31mNameError\u001b[0m                                 Traceback (most recent call last)",
      "\u001b[1;32m<ipython-input-32-796d0960bab2>\u001b[0m in \u001b[0;36m<module>\u001b[1;34m\u001b[0m\n\u001b[1;32m----> 1\u001b[1;33m \u001b[1;32mdef\u001b[0m \u001b[0mmunge\u001b[0m\u001b[1;33m(\u001b[0m\u001b[0minput\u001b[0m\u001b[1;33m:\u001b[0m \u001b[0mAnyStr\u001b[0m\u001b[1;33m)\u001b[0m\u001b[1;33m:\u001b[0m \u001b[1;33m...\u001b[0m\u001b[1;33m\u001b[0m\u001b[1;33m\u001b[0m\u001b[0m\n\u001b[0m\u001b[0;32m      2\u001b[0m \u001b[1;32mdef\u001b[0m \u001b[0mmunge\u001b[0m\u001b[1;33m(\u001b[0m\u001b[1;33m)\u001b[0m \u001b[1;33m->\u001b[0m \u001b[0mAnyStr\u001b[0m\u001b[1;33m:\u001b[0m \u001b[1;33m...\u001b[0m\u001b[1;33m\u001b[0m\u001b[1;33m\u001b[0m\u001b[0m\n",
      "\u001b[1;31mNameError\u001b[0m: name 'AnyStr' is not defined"
     ]
    }
   ],
   "source": [
    "def munge(input: AnyStr): ...\n",
    "def munge() -> AnyStr: ..."
   ]
  },
  {
   "cell_type": "code",
   "execution_count": 33,
   "metadata": {},
   "outputs": [
    {
     "ename": "TypeError",
     "evalue": "'tuple' object is not callable",
     "output_type": "error",
     "traceback": [
      "\u001b[1;31m---------------------------------------------------------------------------\u001b[0m",
      "\u001b[1;31mTypeError\u001b[0m                                 Traceback (most recent call last)",
      "\u001b[1;32m<ipython-input-33-d1c85d0c6219>\u001b[0m in \u001b[0;36m<module>\u001b[1;34m\u001b[0m\n\u001b[0;32m      1\u001b[0m \u001b[0mkelerengku\u001b[0m \u001b[1;33m=\u001b[0m \u001b[1;36m10\u001b[0m\u001b[1;33m\u001b[0m\u001b[1;33m\u001b[0m\u001b[0m\n\u001b[0;32m      2\u001b[0m \u001b[1;32mif\u001b[0m \u001b[0mkelerengku\u001b[0m\u001b[1;33m:\u001b[0m\u001b[1;33m\u001b[0m\u001b[1;33m\u001b[0m\u001b[0m\n\u001b[1;32m----> 3\u001b[1;33m    \u001b[0mprint\u001b[0m \u001b[1;33m(\u001b[0m\u001b[1;34m\"Cetak ini jika benar\"\u001b[0m\u001b[1;33m)\u001b[0m\u001b[1;33m\u001b[0m\u001b[1;33m\u001b[0m\u001b[0m\n\u001b[0m\u001b[0;32m      4\u001b[0m    \u001b[0mprint\u001b[0m \u001b[1;33m(\u001b[0m\u001b[0mkelerengku\u001b[0m\u001b[1;33m)\u001b[0m\u001b[1;33m\u001b[0m\u001b[1;33m\u001b[0m\u001b[0m\n",
      "\u001b[1;31mTypeError\u001b[0m: 'tuple' object is not callable"
     ]
    }
   ],
   "source": [
    "kelerengku = 10\n",
    "if kelerengku:\n",
    "   print (\"Cetak ini jika benar\")\n",
    "   print (kelerengku)"
   ]
  },
  {
   "cell_type": "code",
   "execution_count": 40,
   "metadata": {},
   "outputs": [
    {
     "ename": "TypeError",
     "evalue": "'tuple' object is not callable",
     "output_type": "error",
     "traceback": [
      "\u001b[1;31m---------------------------------------------------------------------------\u001b[0m",
      "\u001b[1;31mTypeError\u001b[0m                                 Traceback (most recent call last)",
      "\u001b[1;32m<ipython-input-40-d1c85d0c6219>\u001b[0m in \u001b[0;36m<module>\u001b[1;34m\u001b[0m\n\u001b[0;32m      1\u001b[0m \u001b[0mkelerengku\u001b[0m \u001b[1;33m=\u001b[0m \u001b[1;36m10\u001b[0m\u001b[1;33m\u001b[0m\u001b[1;33m\u001b[0m\u001b[0m\n\u001b[0;32m      2\u001b[0m \u001b[1;32mif\u001b[0m \u001b[0mkelerengku\u001b[0m\u001b[1;33m:\u001b[0m\u001b[1;33m\u001b[0m\u001b[1;33m\u001b[0m\u001b[0m\n\u001b[1;32m----> 3\u001b[1;33m    \u001b[0mprint\u001b[0m \u001b[1;33m(\u001b[0m\u001b[1;34m\"Cetak ini jika benar\"\u001b[0m\u001b[1;33m)\u001b[0m\u001b[1;33m\u001b[0m\u001b[1;33m\u001b[0m\u001b[0m\n\u001b[0m\u001b[0;32m      4\u001b[0m    \u001b[0mprint\u001b[0m \u001b[1;33m(\u001b[0m\u001b[0mkelerengku\u001b[0m\u001b[1;33m)\u001b[0m\u001b[1;33m\u001b[0m\u001b[1;33m\u001b[0m\u001b[0m\n",
      "\u001b[1;31mTypeError\u001b[0m: 'tuple' object is not callable"
     ]
    }
   ],
   "source": [
    "kelerengku = 10\n",
    "if kelerengku:\n",
    "   print (\"Cetak ini jika benar\")\n",
    "   print (kelerengku)"
   ]
  },
  {
   "cell_type": "code",
   "execution_count": 42,
   "metadata": {},
   "outputs": [
    {
     "ename": "TypeError",
     "evalue": "'tuple' object is not callable",
     "output_type": "error",
     "traceback": [
      "\u001b[1;31m---------------------------------------------------------------------------\u001b[0m",
      "\u001b[1;31mTypeError\u001b[0m                                 Traceback (most recent call last)",
      "\u001b[1;32m<ipython-input-42-d1c85d0c6219>\u001b[0m in \u001b[0;36m<module>\u001b[1;34m\u001b[0m\n\u001b[0;32m      1\u001b[0m \u001b[0mkelerengku\u001b[0m \u001b[1;33m=\u001b[0m \u001b[1;36m10\u001b[0m\u001b[1;33m\u001b[0m\u001b[1;33m\u001b[0m\u001b[0m\n\u001b[0;32m      2\u001b[0m \u001b[1;32mif\u001b[0m \u001b[0mkelerengku\u001b[0m\u001b[1;33m:\u001b[0m\u001b[1;33m\u001b[0m\u001b[1;33m\u001b[0m\u001b[0m\n\u001b[1;32m----> 3\u001b[1;33m    \u001b[0mprint\u001b[0m \u001b[1;33m(\u001b[0m\u001b[1;34m\"Cetak ini jika benar\"\u001b[0m\u001b[1;33m)\u001b[0m\u001b[1;33m\u001b[0m\u001b[1;33m\u001b[0m\u001b[0m\n\u001b[0m\u001b[0;32m      4\u001b[0m    \u001b[0mprint\u001b[0m \u001b[1;33m(\u001b[0m\u001b[0mkelerengku\u001b[0m\u001b[1;33m)\u001b[0m\u001b[1;33m\u001b[0m\u001b[1;33m\u001b[0m\u001b[0m\n",
      "\u001b[1;31mTypeError\u001b[0m: 'tuple' object is not callable"
     ]
    }
   ],
   "source": [
    "kelerengku = 10\n",
    "if kelerengku:\n",
    "   print (\"Cetak ini jika benar\")\n",
    "   print (kelerengku)"
   ]
  },
  {
   "cell_type": "code",
   "execution_count": 39,
   "metadata": {},
   "outputs": [
    {
     "ename": "TypeError",
     "evalue": "'tuple' object is not callable",
     "output_type": "error",
     "traceback": [
      "\u001b[1;31m---------------------------------------------------------------------------\u001b[0m",
      "\u001b[1;31mTypeError\u001b[0m                                 Traceback (most recent call last)",
      "\u001b[1;32m<ipython-input-39-c26e5c9b9bb8>\u001b[0m in \u001b[0;36m<module>\u001b[1;34m\u001b[0m\n\u001b[0;32m      1\u001b[0m \u001b[0mx\u001b[0m \u001b[1;33m=\u001b[0m \u001b[1;36m10\u001b[0m\u001b[1;33m\u001b[0m\u001b[1;33m\u001b[0m\u001b[0m\n\u001b[0;32m      2\u001b[0m \u001b[1;32mif\u001b[0m \u001b[0mx\u001b[0m\u001b[1;33m:\u001b[0m\u001b[1;33m\u001b[0m\u001b[1;33m\u001b[0m\u001b[0m\n\u001b[1;32m----> 3\u001b[1;33m     \u001b[0mprint\u001b[0m\u001b[1;33m(\u001b[0m\u001b[1;34m'Cetak ini jika benar'\u001b[0m\u001b[1;33m,\u001b[0m \u001b[0mx\u001b[0m\u001b[1;33m)\u001b[0m\u001b[1;33m\u001b[0m\u001b[1;33m\u001b[0m\u001b[0m\n\u001b[0m",
      "\u001b[1;31mTypeError\u001b[0m: 'tuple' object is not callable"
     ]
    }
   ],
   "source": [
    "x = 10\n",
    "if x:\n",
    "    print('Cetak ini jika benar', x)"
   ]
  },
  {
   "cell_type": "code",
   "execution_count": null,
   "metadata": {},
   "outputs": [],
   "source": [
    "kelerengku = 10\n",
    "if kelerengku:\n",
    "   print(\"Cetak ini jika benar\")\n",
    "   print(kelerengku)"
   ]
  },
  {
   "cell_type": "code",
   "execution_count": 47,
   "metadata": {},
   "outputs": [
    {
     "ename": "IndentationError",
     "evalue": "unexpected indent (<ipython-input-47-2805d10702c9>, line 2)",
     "output_type": "error",
     "traceback": [
      "\u001b[1;36m  File \u001b[1;32m\"<ipython-input-47-2805d10702c9>\"\u001b[1;36m, line \u001b[1;32m2\u001b[0m\n\u001b[1;33m    print(\"Cetak ini jika benar\")\u001b[0m\n\u001b[1;37m    ^\u001b[0m\n\u001b[1;31mIndentationError\u001b[0m\u001b[1;31m:\u001b[0m unexpected indent\n"
     ]
    }
   ],
   "source": [
    "kelerengku = 10\n",
    "if kelerengku:\n",
    "    print(\"Cetak ini jika benar\", )\n",
    "    print(kelerengku)"
   ]
  },
  {
   "cell_type": "code",
   "execution_count": 49,
   "metadata": {},
   "outputs": [
    {
     "ename": "KeyboardInterrupt",
     "evalue": "Interrupted by user",
     "output_type": "error",
     "traceback": [
      "\u001b[1;31m---------------------------------------------------------------------------\u001b[0m",
      "\u001b[1;31mKeyboardInterrupt\u001b[0m                         Traceback (most recent call last)",
      "\u001b[1;32m<ipython-input-49-11f9dadaa777>\u001b[0m in \u001b[0;36m<module>\u001b[1;34m\u001b[0m\n\u001b[1;32m----> 1\u001b[1;33m \u001b[0mtinggi_badan\u001b[0m \u001b[1;33m=\u001b[0m \u001b[0mint\u001b[0m\u001b[1;33m(\u001b[0m\u001b[0minput\u001b[0m\u001b[1;33m(\u001b[0m\u001b[1;34m\"Masukkan tinggi badan Anda : \"\u001b[0m\u001b[1;33m)\u001b[0m\u001b[1;33m)\u001b[0m\u001b[1;33m\u001b[0m\u001b[1;33m\u001b[0m\u001b[0m\n\u001b[0m\u001b[0;32m      2\u001b[0m \u001b[1;32mif\u001b[0m \u001b[0mtinggi_badan\u001b[0m\u001b[1;33m>=\u001b[0m\u001b[1;36m160\u001b[0m\u001b[1;33m:\u001b[0m\u001b[1;33m\u001b[0m\u001b[1;33m\u001b[0m\u001b[0m\n\u001b[0;32m      3\u001b[0m    \u001b[0mprint\u001b[0m \u001b[1;33m(\u001b[0m\u001b[1;34m\"Silakan, Anda boleh masuk\"\u001b[0m\u001b[1;33m)\u001b[0m\u001b[1;33m\u001b[0m\u001b[1;33m\u001b[0m\u001b[0m\n\u001b[0;32m      4\u001b[0m \u001b[1;32melse\u001b[0m\u001b[1;33m:\u001b[0m\u001b[1;33m\u001b[0m\u001b[1;33m\u001b[0m\u001b[0m\n\u001b[0;32m      5\u001b[0m    \u001b[0mprint\u001b[0m \u001b[1;33m(\u001b[0m\u001b[1;34m\"Maaf, Anda belum boleh masuk\"\u001b[0m\u001b[1;33m)\u001b[0m\u001b[1;33m\u001b[0m\u001b[1;33m\u001b[0m\u001b[0m\n",
      "\u001b[1;32m~\\anaconda3\\lib\\site-packages\\ipykernel\\kernelbase.py\u001b[0m in \u001b[0;36mraw_input\u001b[1;34m(self, prompt)\u001b[0m\n\u001b[0;32m    858\u001b[0m                 \u001b[1;34m\"raw_input was called, but this frontend does not support input requests.\"\u001b[0m\u001b[1;33m\u001b[0m\u001b[1;33m\u001b[0m\u001b[0m\n\u001b[0;32m    859\u001b[0m             )\n\u001b[1;32m--> 860\u001b[1;33m         return self._input_request(str(prompt),\n\u001b[0m\u001b[0;32m    861\u001b[0m             \u001b[0mself\u001b[0m\u001b[1;33m.\u001b[0m\u001b[0m_parent_ident\u001b[0m\u001b[1;33m,\u001b[0m\u001b[1;33m\u001b[0m\u001b[1;33m\u001b[0m\u001b[0m\n\u001b[0;32m    862\u001b[0m             \u001b[0mself\u001b[0m\u001b[1;33m.\u001b[0m\u001b[0m_parent_header\u001b[0m\u001b[1;33m,\u001b[0m\u001b[1;33m\u001b[0m\u001b[1;33m\u001b[0m\u001b[0m\n",
      "\u001b[1;32m~\\anaconda3\\lib\\site-packages\\ipykernel\\kernelbase.py\u001b[0m in \u001b[0;36m_input_request\u001b[1;34m(self, prompt, ident, parent, password)\u001b[0m\n\u001b[0;32m    902\u001b[0m             \u001b[1;32mexcept\u001b[0m \u001b[0mKeyboardInterrupt\u001b[0m\u001b[1;33m:\u001b[0m\u001b[1;33m\u001b[0m\u001b[1;33m\u001b[0m\u001b[0m\n\u001b[0;32m    903\u001b[0m                 \u001b[1;31m# re-raise KeyboardInterrupt, to truncate traceback\u001b[0m\u001b[1;33m\u001b[0m\u001b[1;33m\u001b[0m\u001b[1;33m\u001b[0m\u001b[0m\n\u001b[1;32m--> 904\u001b[1;33m                 \u001b[1;32mraise\u001b[0m \u001b[0mKeyboardInterrupt\u001b[0m\u001b[1;33m(\u001b[0m\u001b[1;34m\"Interrupted by user\"\u001b[0m\u001b[1;33m)\u001b[0m \u001b[1;32mfrom\u001b[0m \u001b[1;32mNone\u001b[0m\u001b[1;33m\u001b[0m\u001b[1;33m\u001b[0m\u001b[0m\n\u001b[0m\u001b[0;32m    905\u001b[0m             \u001b[1;32mexcept\u001b[0m \u001b[0mException\u001b[0m \u001b[1;32mas\u001b[0m \u001b[0me\u001b[0m\u001b[1;33m:\u001b[0m\u001b[1;33m\u001b[0m\u001b[1;33m\u001b[0m\u001b[0m\n\u001b[0;32m    906\u001b[0m                 \u001b[0mself\u001b[0m\u001b[1;33m.\u001b[0m\u001b[0mlog\u001b[0m\u001b[1;33m.\u001b[0m\u001b[0mwarning\u001b[0m\u001b[1;33m(\u001b[0m\u001b[1;34m\"Invalid Message:\"\u001b[0m\u001b[1;33m,\u001b[0m \u001b[0mexc_info\u001b[0m\u001b[1;33m=\u001b[0m\u001b[1;32mTrue\u001b[0m\u001b[1;33m)\u001b[0m\u001b[1;33m\u001b[0m\u001b[1;33m\u001b[0m\u001b[0m\n",
      "\u001b[1;31mKeyboardInterrupt\u001b[0m: Interrupted by user"
     ]
    }
   ],
   "source": [
    "tinggi_badan = int(input(\"Masukkan tinggi badan Anda : \"))\n",
    "if tinggi_badan>=160:\n",
    "   print (\"Silakan, Anda boleh masuk\")\n",
    "else:\n",
    "   print (\"Maaf, Anda belum boleh masuk\")"
   ]
  },
  {
   "cell_type": "code",
   "execution_count": 50,
   "metadata": {},
   "outputs": [
    {
     "name": "stdout",
     "output_type": "stream",
     "text": [
      "Masukkan tinggi badan anda: 161\n"
     ]
    },
    {
     "ename": "TypeError",
     "evalue": "'tuple' object is not callable",
     "output_type": "error",
     "traceback": [
      "\u001b[1;31m---------------------------------------------------------------------------\u001b[0m",
      "\u001b[1;31mTypeError\u001b[0m                                 Traceback (most recent call last)",
      "\u001b[1;32m<ipython-input-50-ea501b9f83dc>\u001b[0m in \u001b[0;36m<module>\u001b[1;34m\u001b[0m\n\u001b[0;32m      1\u001b[0m \u001b[0mtinggi_badan\u001b[0m \u001b[1;33m=\u001b[0m \u001b[0mint\u001b[0m\u001b[1;33m(\u001b[0m\u001b[0minput\u001b[0m\u001b[1;33m(\u001b[0m\u001b[1;34m\"Masukkan tinggi badan anda: \"\u001b[0m\u001b[1;33m)\u001b[0m\u001b[1;33m)\u001b[0m\u001b[1;33m\u001b[0m\u001b[1;33m\u001b[0m\u001b[0m\n\u001b[0;32m      2\u001b[0m \u001b[1;32mif\u001b[0m \u001b[0mtinggi_badan\u001b[0m \u001b[1;33m>=\u001b[0m \u001b[1;36m160\u001b[0m\u001b[1;33m:\u001b[0m\u001b[1;33m\u001b[0m\u001b[1;33m\u001b[0m\u001b[0m\n\u001b[1;32m----> 3\u001b[1;33m     \u001b[0mprint\u001b[0m\u001b[1;33m(\u001b[0m\u001b[1;34m\"Silahkan masuk\"\u001b[0m\u001b[1;33m)\u001b[0m\u001b[1;33m\u001b[0m\u001b[1;33m\u001b[0m\u001b[0m\n\u001b[0m\u001b[0;32m      4\u001b[0m \u001b[1;32melse\u001b[0m\u001b[1;33m:\u001b[0m\u001b[1;33m\u001b[0m\u001b[1;33m\u001b[0m\u001b[0m\n\u001b[0;32m      5\u001b[0m     \u001b[0mprint\u001b[0m\u001b[1;33m(\u001b[0m\u001b[1;34m\"maaf anda tidak boleh masuk\"\u001b[0m\u001b[1;33m)\u001b[0m\u001b[1;33m\u001b[0m\u001b[1;33m\u001b[0m\u001b[0m\n",
      "\u001b[1;31mTypeError\u001b[0m: 'tuple' object is not callable"
     ]
    }
   ],
   "source": [
    "tinggi_badan = int(input(\"Masukkan tinggi badan anda: \"))\n",
    "if tinggi_badan >= 160:\n",
    "    print(\"Silahkan masuk\")\n",
    "else:\n",
    "    print(\"maaf anda tidak boleh masuk\")"
   ]
  },
  {
   "cell_type": "code",
   "execution_count": null,
   "metadata": {},
   "outputs": [],
   "source": []
  }
 ],
 "metadata": {
  "kernelspec": {
   "display_name": "Python 3",
   "language": "python",
   "name": "python3"
  },
  "language_info": {
   "codemirror_mode": {
    "name": "ipython",
    "version": 3
   },
   "file_extension": ".py",
   "mimetype": "text/x-python",
   "name": "python",
   "nbconvert_exporter": "python",
   "pygments_lexer": "ipython3",
   "version": "3.8.0"
  }
 },
 "nbformat": 4,
 "nbformat_minor": 4
}
